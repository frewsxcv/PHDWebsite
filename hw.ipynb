{
 "cells": [
  {
   "cell_type": "markdown",
   "metadata": {},
   "source": [
    "# Part I - Using R To Analyze Data"
   ]
  },
  {
   "cell_type": "markdown",
   "metadata": {},
   "source": [
    "Download the following file (https://www.dropbox.com/s/zjf0lm830wzmkwz/snmp-delta.csv?dl=0), which contains the following as table as comma-separated values.\n",
    "\n",
    "here are a total of 8 columns of data. You should be able to read the data into R using the provided commands below.\n",
    "\n",
    "These are measurements in packets per interval and bytes per interval for specific interfaces on the router from the prior assignment, ideally structured as a notebook. For this assignment, you're going to hand in an \"R Program\" that shows how you analyzed the data. \n",
    "\n",
    "You should hand in a single PDF document with your answers to the questions, including any graphics needed. R can produce plots of graphs (described below) -- if you don't or can't use the notebook form (which will include the plots directly), you should be able to suck the plots into OpenOffice or other word processing tools."
   ]
  },
  {
   "cell_type": "code",
   "execution_count": 1,
   "metadata": {
    "collapsed": false
   },
   "outputs": [
    {
     "data": {
      "text/html": [
       "<table>\n",
       "<thead><tr><th></th><th scope=col>sample</th><th scope=col>if.</th><th scope=col>outUCastPkts</th><th scope=col>inOctets</th><th scope=col>outOctets</th><th scope=col>inUcastPkts</th><th scope=col>outNUCastPkts</th><th scope=col>inNUcastPkts</th></tr></thead>\n",
       "<tbody>\n",
       "\t<tr><th scope=row>1</th><td>0</td><td>1</td><td>0</td><td>0</td><td>0</td><td>0</td><td>0</td><td>0</td></tr>\n",
       "\t<tr><th scope=row>2</th><td>0</td><td>2</td><td>672</td><td>184683</td><td>90820</td><td>2226</td><td>0</td><td>0</td></tr>\n",
       "\t<tr><th scope=row>3</th><td>0</td><td>3</td><td>96</td><td>116273</td><td>14370</td><td>866</td><td>0</td><td>0</td></tr>\n",
       "\t<tr><th scope=row>4</th><td>0</td><td>6</td><td>119</td><td>97039</td><td>16290</td><td>751</td><td>0</td><td>0</td></tr>\n",
       "\t<tr><th scope=row>5</th><td>0</td><td>7</td><td>678</td><td>149297</td><td>92040</td><td>2201</td><td>0</td><td>0</td></tr>\n",
       "\t<tr><th scope=row>6</th><td>0</td><td>9</td><td>0</td><td>0</td><td>0</td><td>0</td><td>0</td><td>0</td></tr>\n",
       "\t<tr><th scope=row>7</th><td>0</td><td>10</td><td>1621</td><td>0</td><td>142038</td><td>0</td><td>0</td><td>0</td></tr>\n",
       "\t<tr><th scope=row>8</th><td>0</td><td>11</td><td>1621</td><td>0</td><td>142038</td><td>0</td><td>0</td><td>0</td></tr>\n",
       "\t<tr><th scope=row>9</th><td>1</td><td>1</td><td>0</td><td>0</td><td>0</td><td>0</td><td>0</td><td>0</td></tr>\n",
       "\t<tr><th scope=row>10</th><td>1</td><td>2</td><td>376</td><td>143765</td><td>52072</td><td>1619</td><td>0</td><td>0</td></tr>\n",
       "\t<tr><th scope=row>11</th><td>1</td><td>3</td><td>105</td><td>138865</td><td>19345</td><td>1023</td><td>0</td><td>0</td></tr>\n",
       "\t<tr><th scope=row>12</th><td>1</td><td>6</td><td>122</td><td>116917</td><td>21265</td><td>906</td><td>0</td><td>0</td></tr>\n",
       "\t<tr><th scope=row>13</th><td>1</td><td>7</td><td>350</td><td>107185</td><td>49532</td><td>1486</td><td>0</td><td>0</td></tr>\n",
       "\t<tr><th scope=row>14</th><td>1</td><td>9</td><td>0</td><td>0</td><td>0</td><td>0</td><td>0</td><td>0</td></tr>\n",
       "\t<tr><th scope=row>15</th><td>1</td><td>10</td><td>1209</td><td>0</td><td>109328</td><td>0</td><td>0</td><td>0</td></tr>\n",
       "\t<tr><th scope=row>16</th><td>1</td><td>11</td><td>1209</td><td>0</td><td>109328</td><td>0</td><td>0</td><td>0</td></tr>\n",
       "\t<tr><th scope=row>17</th><td>2</td><td>1</td><td>0</td><td>0</td><td>0</td><td>0</td><td>0</td><td>0</td></tr>\n",
       "\t<tr><th scope=row>18</th><td>2</td><td>2</td><td>353</td><td>148319</td><td>48741</td><td>1805</td><td>0</td><td>0</td></tr>\n",
       "\t<tr><th scope=row>19</th><td>2</td><td>3</td><td>111</td><td>138016</td><td>16479</td><td>1019</td><td>0</td><td>0</td></tr>\n",
       "\t<tr><th scope=row>20</th><td>2</td><td>6</td><td>131</td><td>116547</td><td>18399</td><td>903</td><td>0</td><td>0</td></tr>\n",
       "\t<tr><th scope=row>21</th><td>2</td><td>7</td><td>343</td><td>116354</td><td>48081</td><td>1743</td><td>0</td><td>0</td></tr>\n",
       "\t<tr><th scope=row>22</th><td>2</td><td>9</td><td>0</td><td>0</td><td>0</td><td>0</td><td>0</td><td>0</td></tr>\n",
       "\t<tr><th scope=row>23</th><td>2</td><td>10</td><td>1468</td><td>0</td><td>130136</td><td>0</td><td>0</td><td>0</td></tr>\n",
       "\t<tr><th scope=row>24</th><td>2</td><td>11</td><td>1468</td><td>0</td><td>130136</td><td>0</td><td>0</td><td>0</td></tr>\n",
       "\t<tr><th scope=row>25</th><td>3</td><td>1</td><td>0</td><td>0</td><td>0</td><td>0</td><td>0</td><td>0</td></tr>\n",
       "\t<tr><th scope=row>26</th><td>3</td><td>2</td><td>391</td><td>151097</td><td>49396</td><td>1673</td><td>0</td><td>0</td></tr>\n",
       "\t<tr><th scope=row>27</th><td>3</td><td>3</td><td>107</td><td>116672</td><td>22340</td><td>871</td><td>0</td><td>0</td></tr>\n",
       "\t<tr><th scope=row>28</th><td>3</td><td>6</td><td>127</td><td>97440</td><td>24260</td><td>757</td><td>0</td><td>0</td></tr>\n",
       "\t<tr><th scope=row>29</th><td>3</td><td>7</td><td>381</td><td>116048</td><td>48736</td><td>1575</td><td>0</td><td>0</td></tr>\n",
       "\t<tr><th scope=row>30</th><td>3</td><td>9</td><td>0</td><td>0</td><td>0</td><td>0</td><td>0</td><td>0</td></tr>\n",
       "\t<tr><th scope=row>31</th><td>3</td><td>10</td><td>1266</td><td>0</td><td>114390</td><td>0</td><td>0</td><td>0</td></tr>\n",
       "\t<tr><th scope=row>32</th><td>3</td><td>11</td><td>1266</td><td>0</td><td>114390</td><td>0</td><td>0</td><td>0</td></tr>\n",
       "\t<tr><th scope=row>33</th><td>4</td><td>1</td><td>0</td><td>0</td><td>0</td><td>0</td><td>0</td><td>0</td></tr>\n",
       "\t<tr><th scope=row>34</th><td>4</td><td>2</td><td>425</td><td>141174</td><td>56971</td><td>1506</td><td>0</td><td>0</td></tr>\n",
       "\t<tr><th scope=row>35</th><td>4</td><td>3</td><td>132</td><td>107612</td><td>26716</td><td>767</td><td>0</td><td>0</td></tr>\n",
       "\t<tr><th scope=row>36</th><td>4</td><td>6</td><td>152</td><td>89764</td><td>28636</td><td>652</td><td>0</td><td>0</td></tr>\n",
       "\t<tr><th scope=row>37</th><td>4</td><td>7</td><td>415</td><td>112020</td><td>56311</td><td>1433</td><td>0</td><td>0</td></tr>\n",
       "\t<tr><th scope=row>38</th><td>4</td><td>9</td><td>0</td><td>0</td><td>0</td><td>0</td><td>0</td><td>0</td></tr>\n",
       "\t<tr><th scope=row>39</th><td>4</td><td>10</td><td>1095</td><td>0</td><td>100278</td><td>0</td><td>0</td><td>0</td></tr>\n",
       "\t<tr><th scope=row>40</th><td>4</td><td>11</td><td>1097</td><td>0</td><td>100446</td><td>0</td><td>0</td><td>0</td></tr>\n",
       "\t<tr><th scope=row>41</th><td>5</td><td>1</td><td>0</td><td>0</td><td>0</td><td>0</td><td>0</td><td>0</td></tr>\n",
       "\t<tr><th scope=row>42</th><td>5</td><td>2</td><td>298</td><td>96632</td><td>38035</td><td>1011</td><td>0</td><td>0</td></tr>\n",
       "\t<tr><th scope=row>43</th><td>5</td><td>3</td><td>72</td><td>93532</td><td>10593</td><td>664</td><td>0</td><td>0</td></tr>\n",
       "\t<tr><th scope=row>44</th><td>5</td><td>6</td><td>88</td><td>78364</td><td>12129</td><td>568</td><td>0</td><td>0</td></tr>\n",
       "\t<tr><th scope=row>45</th><td>5</td><td>7</td><td>290</td><td>72746</td><td>37507</td><td>931</td><td>0</td><td>0</td></tr>\n",
       "\t<tr><th scope=row>46</th><td>5</td><td>9</td><td>0</td><td>0</td><td>0</td><td>0</td><td>0</td><td>0</td></tr>\n",
       "\t<tr><th scope=row>47</th><td>5</td><td>10</td><td>687</td><td>0</td><td>68431</td><td>0</td><td>0</td><td>0</td></tr>\n",
       "\t<tr><th scope=row>48</th><td>5</td><td>11</td><td>685</td><td>0</td><td>68263</td><td>0</td><td>0</td><td>0</td></tr>\n",
       "\t<tr><th scope=row>49</th><td>6</td><td>1</td><td>0</td><td>0</td><td>0</td><td>0</td><td>0</td><td>0</td></tr>\n",
       "\t<tr><th scope=row>50</th><td>6</td><td>2</td><td>443</td><td>132585</td><td>56252</td><td>1243</td><td>0</td><td>0</td></tr>\n",
       "\t<tr><th scope=row>51</th><td>6</td><td>3</td><td>113</td><td>98585</td><td>26859</td><td>719</td><td>0</td><td>0</td></tr>\n",
       "\t<tr><th scope=row>52</th><td>6</td><td>6</td><td>133</td><td>81409</td><td>28779</td><td>604</td><td>0</td><td>0</td></tr>\n",
       "\t<tr><th scope=row>53</th><td>6</td><td>7</td><td>433</td><td>103649</td><td>55592</td><td>1146</td><td>0</td><td>0</td></tr>\n",
       "\t<tr><th scope=row>54</th><td>6</td><td>9</td><td>0</td><td>0</td><td>0</td><td>0</td><td>0</td><td>0</td></tr>\n",
       "\t<tr><th scope=row>55</th><td>6</td><td>10</td><td>787</td><td>0</td><td>77028</td><td>0</td><td>0</td><td>0</td></tr>\n",
       "\t<tr><th scope=row>56</th><td>6</td><td>11</td><td>787</td><td>0</td><td>77028</td><td>0</td><td>0</td><td>0</td></tr>\n",
       "\t<tr><th scope=row>57</th><td>7</td><td>1</td><td>0</td><td>0</td><td>0</td><td>0</td><td>0</td><td>0</td></tr>\n",
       "\t<tr><th scope=row>58</th><td>7</td><td>2</td><td>1167</td><td>175776</td><td>119737</td><td>1907</td><td>0</td><td>0</td></tr>\n",
       "\t<tr><th scope=row>59</th><td>7</td><td>3</td><td>92</td><td>97305</td><td>13360</td><td>705</td><td>0</td><td>0</td></tr>\n",
       "\t<tr><th scope=row>60</th><td>7</td><td>6</td><td>112</td><td>79809</td><td>15280</td><td>588</td><td>0</td><td>0</td></tr>\n",
       "\t<tr><th scope=row>61</th><td>7</td><td>7</td><td>1157</td><td>142476</td><td>119077</td><td>1846</td><td>0</td><td>0</td></tr>\n",
       "\t<tr><th scope=row>62</th><td>7</td><td>9</td><td>0</td><td>0</td><td>0</td><td>0</td><td>0</td><td>0</td></tr>\n",
       "\t<tr><th scope=row>63</th><td>7</td><td>10</td><td>769</td><td>0</td><td>75590</td><td>0</td><td>0</td><td>0</td></tr>\n",
       "\t<tr><th scope=row>64</th><td>7</td><td>11</td><td>769</td><td>0</td><td>75590</td><td>0</td><td>0</td><td>0</td></tr>\n",
       "\t<tr><th scope=row>65</th><td>8</td><td>1</td><td>0</td><td>0</td><td>0</td><td>0</td><td>0</td><td>0</td></tr>\n",
       "\t<tr><th scope=row>66</th><td>8</td><td>2</td><td>352</td><td>118004</td><td>46771</td><td>1197</td><td>0</td><td>0</td></tr>\n",
       "\t<tr><th scope=row>67</th><td>8</td><td>3</td><td>123</td><td>105176</td><td>21262</td><td>748</td><td>0</td><td>0</td></tr>\n",
       "\t<tr><th scope=row>68</th><td>8</td><td>6</td><td>143</td><td>87501</td><td>23182</td><td>632</td><td>0</td><td>0</td></tr>\n",
       "\t<tr><th scope=row>69</th><td>8</td><td>7</td><td>342</td><td>89619</td><td>46111</td><td>1099</td><td>0</td><td>0</td></tr>\n",
       "\t<tr><th scope=row>70</th><td>8</td><td>9</td><td>0</td><td>0</td><td>0</td><td>0</td><td>0</td><td>0</td></tr>\n",
       "\t<tr><th scope=row>71</th><td>8</td><td>10</td><td>794</td><td>0</td><td>76886</td><td>0</td><td>0</td><td>0</td></tr>\n",
       "\t<tr><th scope=row>72</th><td>8</td><td>11</td><td>794</td><td>0</td><td>76886</td><td>0</td><td>0</td><td>0</td></tr>\n",
       "\t<tr><th scope=row>73</th><td>9</td><td>1</td><td>0</td><td>0</td><td>0</td><td>0</td><td>0</td><td>0</td></tr>\n",
       "\t<tr><th scope=row>74</th><td>9</td><td>2</td><td>409</td><td>189142</td><td>49274</td><td>1448</td><td>0</td><td>0</td></tr>\n",
       "\t<tr><th scope=row>75</th><td>9</td><td>3</td><td>170</td><td>100705</td><td>82537</td><td>761</td><td>0</td><td>0</td></tr>\n",
       "\t<tr><th scope=row>76</th><td>9</td><td>6</td><td>190</td><td>82941</td><td>84457</td><td>646</td><td>0</td><td>0</td></tr>\n",
       "\t<tr><th scope=row>77</th><td>9</td><td>7</td><td>399</td><td>162175</td><td>48614</td><td>1386</td><td>0</td><td>0</td></tr>\n",
       "\t<tr><th scope=row>78</th><td>9</td><td>9</td><td>0</td><td>0</td><td>0</td><td>0</td><td>0</td><td>0</td></tr>\n",
       "\t<tr><th scope=row>79</th><td>9</td><td>10</td><td>1043</td><td>0</td><td>96241</td><td>0</td><td>0</td><td>0</td></tr>\n",
       "\t<tr><th scope=row>80</th><td>9</td><td>11</td><td>1043</td><td>0</td><td>96241</td><td>0</td><td>0</td><td>0</td></tr>\n",
       "\t<tr><th scope=row>81</th><td>10</td><td>1</td><td>0</td><td>0</td><td>0</td><td>0</td><td>0</td><td>0</td></tr>\n",
       "\t<tr><th scope=row>82</th><td>10</td><td>2</td><td>375</td><td>136024</td><td>51156</td><td>1409</td><td>0</td><td>0</td></tr>\n",
       "\t<tr><th scope=row>83</th><td>10</td><td>3</td><td>115</td><td>101904</td><td>24067</td><td>719</td><td>0</td><td>0</td></tr>\n",
       "\t<tr><th scope=row>84</th><td>10</td><td>6</td><td>131</td><td>85966</td><td>25603</td><td>623</td><td>0</td><td>0</td></tr>\n",
       "\t<tr><th scope=row>85</th><td>10</td><td>7</td><td>367</td><td>105098</td><td>50628</td><td>1317</td><td>0</td><td>0</td></tr>\n",
       "\t<tr><th scope=row>86</th><td>10</td><td>9</td><td>0</td><td>0</td><td>0</td><td>0</td><td>0</td><td>0</td></tr>\n",
       "\t<tr><th scope=row>87</th><td>10</td><td>10</td><td>1015</td><td>0</td><td>94793</td><td>0</td><td>0</td><td>0</td></tr>\n",
       "\t<tr><th scope=row>88</th><td>10</td><td>11</td><td>1015</td><td>0</td><td>94793</td><td>0</td><td>0</td><td>0</td></tr>\n",
       "\t<tr><th scope=row>89</th><td>11</td><td>1</td><td>0</td><td>0</td><td>0</td><td>0</td><td>0</td><td>0</td></tr>\n",
       "\t<tr><th scope=row>90</th><td>11</td><td>2</td><td>353</td><td>164905</td><td>45573</td><td>2007</td><td>0</td><td>0</td></tr>\n",
       "\t<tr><th scope=row>91</th><td>11</td><td>3</td><td>93</td><td>97730</td><td>17421</td><td>701</td><td>0</td><td>0</td></tr>\n",
       "\t<tr><th scope=row>92</th><td>11</td><td>6</td><td>113</td><td>80806</td><td>19341</td><td>586</td><td>0</td><td>0</td></tr>\n",
       "\t<tr><th scope=row>93</th><td>11</td><td>7</td><td>343</td><td>125181</td><td>44913</td><td>1908</td><td>0</td><td>0</td></tr>\n",
       "\t<tr><th scope=row>94</th><td>11</td><td>9</td><td>0</td><td>0</td><td>0</td><td>0</td><td>0</td><td>0</td></tr>\n",
       "\t<tr><th scope=row>95</th><td>11</td><td>10</td><td>1632</td><td>0</td><td>142141</td><td>0</td><td>0</td><td>0</td></tr>\n",
       "\t<tr><th scope=row>96</th><td>11</td><td>11</td><td>1632</td><td>0</td><td>142141</td><td>0</td><td>0</td><td>0</td></tr>\n",
       "\t<tr><th scope=row>97</th><td>12</td><td>1</td><td>0</td><td>0</td><td>0</td><td>0</td><td>0</td><td>0</td></tr>\n",
       "\t<tr><th scope=row>98</th><td>12</td><td>2</td><td>302</td><td>138347</td><td>37912</td><td>1738</td><td>0</td><td>0</td></tr>\n",
       "\t<tr><th scope=row>99</th><td>12</td><td>3</td><td>96</td><td>95037</td><td>13133</td><td>695</td><td>0</td><td>0</td></tr>\n",
       "\t<tr><th scope=row>100</th><td>12</td><td>6</td><td>116</td><td>78197</td><td>15053</td><td>580</td><td>0</td><td>0</td></tr>\n",
       "\t<tr><th scope=row>101</th><td>12</td><td>7</td><td>292</td><td>107413</td><td>37252</td><td>1677</td><td>0</td><td>0</td></tr>\n",
       "\t<tr><th scope=row>102</th><td>12</td><td>9</td><td>0</td><td>0</td><td>0</td><td>0</td><td>0</td><td>0</td></tr>\n",
       "\t<tr><th scope=row>103</th><td>12</td><td>10</td><td>1450</td><td>0</td><td>128684</td><td>0</td><td>0</td><td>0</td></tr>\n",
       "\t<tr><th scope=row>104</th><td>12</td><td>11</td><td>1450</td><td>0</td><td>128684</td><td>0</td><td>0</td><td>0</td></tr>\n",
       "\t<tr><th scope=row>105</th><td>13</td><td>1</td><td>0</td><td>0</td><td>0</td><td>0</td><td>0</td><td>0</td></tr>\n",
       "\t<tr><th scope=row>106</th><td>13</td><td>2</td><td>1011</td><td>200268</td><td>108698</td><td>2054</td><td>0</td><td>0</td></tr>\n",
       "\t<tr><th scope=row>107</th><td>13</td><td>3</td><td>121</td><td>103523</td><td>29601</td><td>768</td><td>0</td><td>0</td></tr>\n",
       "\t<tr><th scope=row>108</th><td>13</td><td>6</td><td>141</td><td>85099</td><td>31521</td><td>650</td><td>0</td><td>0</td></tr>\n",
       "\t<tr><th scope=row>109</th><td>13</td><td>7</td><td>1001</td><td>159978</td><td>108038</td><td>1957</td><td>0</td><td>0</td></tr>\n",
       "\t<tr><th scope=row>110</th><td>13</td><td>9</td><td>0</td><td>0</td><td>0</td><td>0</td><td>0</td><td>0</td></tr>\n",
       "\t<tr><th scope=row>111</th><td>13</td><td>10</td><td>1018</td><td>0</td><td>94315</td><td>0</td><td>0</td><td>0</td></tr>\n",
       "\t<tr><th scope=row>112</th><td>13</td><td>11</td><td>1018</td><td>0</td><td>94315</td><td>0</td><td>0</td><td>0</td></tr>\n",
       "\t<tr><th scope=row>113</th><td>14</td><td>1</td><td>0</td><td>0</td><td>0</td><td>0</td><td>0</td><td>0</td></tr>\n",
       "\t<tr><th scope=row>114</th><td>14</td><td>2</td><td>416</td><td>118987</td><td>56668</td><td>1118</td><td>0</td><td>0</td></tr>\n",
       "\t<tr><th scope=row>115</th><td>14</td><td>3</td><td>142</td><td>109140</td><td>28796</td><td>784</td><td>0</td><td>0</td></tr>\n",
       "\t<tr><th scope=row>116</th><td>14</td><td>6</td><td>162</td><td>90961</td><td>30716</td><td>668</td><td>0</td><td>0</td></tr>\n",
       "\t<tr><th scope=row>117</th><td>14</td><td>7</td><td>406</td><td>96640</td><td>56008</td><td>1056</td><td>0</td><td>0</td></tr>\n",
       "\t<tr><th scope=row>118</th><td>14</td><td>9</td><td>0</td><td>0</td><td>0</td><td>0</td><td>0</td><td>0</td></tr>\n",
       "\t<tr><th scope=row>119</th><td>14</td><td>10</td><td>736</td><td>0</td><td>73171</td><td>0</td><td>0</td><td>0</td></tr>\n",
       "\t<tr><th scope=row>120</th><td>14</td><td>11</td><td>736</td><td>0</td><td>73171</td><td>0</td><td>0</td><td>0</td></tr>\n",
       "\t<tr><th scope=row>121</th><td>15</td><td>1</td><td>0</td><td>0</td><td>0</td><td>0</td><td>0</td><td>0</td></tr>\n",
       "\t<tr><th scope=row>122</th><td>15</td><td>2</td><td>308</td><td>105711</td><td>41327</td><td>1103</td><td>0</td><td>0</td></tr>\n",
       "\t<tr><th scope=row>123</th><td>15</td><td>3</td><td>91</td><td>107006</td><td>13166</td><td>779</td><td>0</td><td>0</td></tr>\n",
       "\t<tr><th scope=row>124</th><td>15</td><td>6</td><td>107</td><td>90228</td><td>14702</td><td>683</td><td>0</td><td>0</td></tr>\n",
       "\t<tr><th scope=row>125</th><td>15</td><td>7</td><td>300</td><td>78976</td><td>40799</td><td>1010</td><td>0</td><td>0</td></tr>\n",
       "\t<tr><th scope=row>126</th><td>15</td><td>9</td><td>0</td><td>0</td><td>0</td><td>0</td><td>0</td><td>0</td></tr>\n",
       "\t<tr><th scope=row>127</th><td>15</td><td>10</td><td>757</td><td>0</td><td>74865</td><td>0</td><td>0</td><td>0</td></tr>\n",
       "\t<tr><th scope=row>128</th><td>15</td><td>11</td><td>771</td><td>0</td><td>75033</td><td>0</td><td>0</td><td>0</td></tr>\n",
       "\t<tr><th scope=row>129</th><td>16</td><td>1</td><td>0</td><td>0</td><td>0</td><td>0</td><td>0</td><td>0</td></tr>\n",
       "\t<tr><th scope=row>130</th><td>16</td><td>2</td><td>365</td><td>109018</td><td>47345</td><td>1114</td><td>0</td><td>0</td></tr>\n",
       "\t<tr><th scope=row>131</th><td>16</td><td>3</td><td>91</td><td>115535</td><td>12932</td><td>854</td><td>0</td><td>0</td></tr>\n",
       "\t<tr><th scope=row>132</th><td>16</td><td>6</td><td>111</td><td>96469</td><td>14852</td><td>739</td><td>0</td><td>0</td></tr>\n",
       "\t<tr><th scope=row>133</th><td>16</td><td>7</td><td>355</td><td>81888</td><td>46685</td><td>1017</td><td>0</td><td>0</td></tr>\n",
       "\t<tr><th scope=row>134</th><td>16</td><td>9</td><td>0</td><td>0</td><td>0</td><td>0</td><td>0</td><td>0</td></tr>\n",
       "\t<tr><th scope=row>135</th><td>16</td><td>10</td><td>721</td><td>0</td><td>70871</td><td>0</td><td>0</td><td>0</td></tr>\n",
       "\t<tr><th scope=row>136</th><td>16</td><td>11</td><td>707</td><td>0</td><td>70703</td><td>0</td><td>0</td><td>0</td></tr>\n",
       "\t<tr><th scope=row>137</th><td>17</td><td>1</td><td>0</td><td>0</td><td>0</td><td>0</td><td>0</td><td>0</td></tr>\n",
       "\t<tr><th scope=row>138</th><td>17</td><td>2</td><td>1203</td><td>198918</td><td>128047</td><td>2113</td><td>0</td><td>0</td></tr>\n",
       "\t<tr><th scope=row>139</th><td>17</td><td>3</td><td>111</td><td>110780</td><td>24193</td><td>789</td><td>0</td><td>0</td></tr>\n",
       "\t<tr><th scope=row>140</th><td>17</td><td>6</td><td>131</td><td>92624</td><td>26113</td><td>674</td><td>0</td><td>0</td></tr>\n",
       "\t<tr><th scope=row>141</th><td>17</td><td>7</td><td>1193</td><td>161505</td><td>127387</td><td>2036</td><td>0</td><td>0</td></tr>\n",
       "\t<tr><th scope=row>142</th><td>17</td><td>9</td><td>0</td><td>0</td><td>0</td><td>0</td><td>0</td><td>0</td></tr>\n",
       "\t<tr><th scope=row>143</th><td>17</td><td>10</td><td>914</td><td>0</td><td>86079</td><td>0</td><td>0</td><td>0</td></tr>\n",
       "\t<tr><th scope=row>144</th><td>17</td><td>11</td><td>914</td><td>0</td><td>86079</td><td>0</td><td>0</td><td>0</td></tr>\n",
       "\t<tr><th scope=row>145</th><td>18</td><td>1</td><td>0</td><td>0</td><td>0</td><td>0</td><td>0</td><td>0</td></tr>\n",
       "\t<tr><th scope=row>146</th><td>18</td><td>2</td><td>355</td><td>123138</td><td>45032</td><td>1189</td><td>0</td><td>0</td></tr>\n",
       "\t<tr><th scope=row>147</th><td>18</td><td>3</td><td>103</td><td>97773</td><td>25374</td><td>711</td><td>0</td><td>0</td></tr>\n",
       "\t<tr><th scope=row>148</th><td>18</td><td>6</td><td>123</td><td>80827</td><td>27294</td><td>598</td><td>0</td><td>0</td></tr>\n",
       "\t<tr><th scope=row>149</th><td>18</td><td>7</td><td>345</td><td>94958</td><td>44372</td><td>1092</td><td>0</td><td>0</td></tr>\n",
       "\t<tr><th scope=row>150</th><td>18</td><td>9</td><td>0</td><td>0</td><td>0</td><td>0</td><td>0</td><td>0</td></tr>\n",
       "\t<tr><th scope=row>151</th><td>18</td><td>10</td><td>811</td><td>0</td><td>78500</td><td>0</td><td>0</td><td>0</td></tr>\n",
       "\t<tr><th scope=row>152</th><td>18</td><td>11</td><td>811</td><td>0</td><td>78500</td><td>0</td><td>0</td><td>0</td></tr>\n",
       "</tbody>\n",
       "</table>\n"
      ],
      "text/latex": [
       "\\begin{tabular}{r|llllllll}\n",
       "  & sample & if. & outUCastPkts & inOctets & outOctets & inUcastPkts & outNUCastPkts & inNUcastPkts\\\\\n",
       "\\hline\n",
       "\t1 & 0 & 1 & 0 & 0 & 0 & 0 & 0 & 0\\\\\n",
       "\t2 & 0 & 2 & 672 & 184683 & 90820 & 2226 & 0 & 0\\\\\n",
       "\t3 & 0 & 3 & 96 & 116273 & 14370 & 866 & 0 & 0\\\\\n",
       "\t4 & 0 & 6 & 119 & 97039 & 16290 & 751 & 0 & 0\\\\\n",
       "\t5 & 0 & 7 & 678 & 149297 & 92040 & 2201 & 0 & 0\\\\\n",
       "\t6 & 0 & 9 & 0 & 0 & 0 & 0 & 0 & 0\\\\\n",
       "\t7 & 0 & 10 & 1621 & 0 & 142038 & 0 & 0 & 0\\\\\n",
       "\t8 & 0 & 11 & 1621 & 0 & 142038 & 0 & 0 & 0\\\\\n",
       "\t9 & 1 & 1 & 0 & 0 & 0 & 0 & 0 & 0\\\\\n",
       "\t10 & 1 & 2 & 376 & 143765 & 52072 & 1619 & 0 & 0\\\\\n",
       "\t11 & 1 & 3 & 105 & 138865 & 19345 & 1023 & 0 & 0\\\\\n",
       "\t12 & 1 & 6 & 122 & 116917 & 21265 & 906 & 0 & 0\\\\\n",
       "\t13 & 1 & 7 & 350 & 107185 & 49532 & 1486 & 0 & 0\\\\\n",
       "\t14 & 1 & 9 & 0 & 0 & 0 & 0 & 0 & 0\\\\\n",
       "\t15 & 1 & 10 & 1209 & 0 & 109328 & 0 & 0 & 0\\\\\n",
       "\t16 & 1 & 11 & 1209 & 0 & 109328 & 0 & 0 & 0\\\\\n",
       "\t17 & 2 & 1 & 0 & 0 & 0 & 0 & 0 & 0\\\\\n",
       "\t18 & 2 & 2 & 353 & 148319 & 48741 & 1805 & 0 & 0\\\\\n",
       "\t19 & 2 & 3 & 111 & 138016 & 16479 & 1019 & 0 & 0\\\\\n",
       "\t20 & 2 & 6 & 131 & 116547 & 18399 & 903 & 0 & 0\\\\\n",
       "\t21 & 2 & 7 & 343 & 116354 & 48081 & 1743 & 0 & 0\\\\\n",
       "\t22 & 2 & 9 & 0 & 0 & 0 & 0 & 0 & 0\\\\\n",
       "\t23 & 2 & 10 & 1468 & 0 & 130136 & 0 & 0 & 0\\\\\n",
       "\t24 & 2 & 11 & 1468 & 0 & 130136 & 0 & 0 & 0\\\\\n",
       "\t25 & 3 & 1 & 0 & 0 & 0 & 0 & 0 & 0\\\\\n",
       "\t26 & 3 & 2 & 391 & 151097 & 49396 & 1673 & 0 & 0\\\\\n",
       "\t27 & 3 & 3 & 107 & 116672 & 22340 & 871 & 0 & 0\\\\\n",
       "\t28 & 3 & 6 & 127 & 97440 & 24260 & 757 & 0 & 0\\\\\n",
       "\t29 & 3 & 7 & 381 & 116048 & 48736 & 1575 & 0 & 0\\\\\n",
       "\t30 & 3 & 9 & 0 & 0 & 0 & 0 & 0 & 0\\\\\n",
       "\t31 & 3 & 10 & 1266 & 0 & 114390 & 0 & 0 & 0\\\\\n",
       "\t32 & 3 & 11 & 1266 & 0 & 114390 & 0 & 0 & 0\\\\\n",
       "\t33 & 4 & 1 & 0 & 0 & 0 & 0 & 0 & 0\\\\\n",
       "\t34 & 4 & 2 & 425 & 141174 & 56971 & 1506 & 0 & 0\\\\\n",
       "\t35 & 4 & 3 & 132 & 107612 & 26716 & 767 & 0 & 0\\\\\n",
       "\t36 & 4 & 6 & 152 & 89764 & 28636 & 652 & 0 & 0\\\\\n",
       "\t37 & 4 & 7 & 415 & 112020 & 56311 & 1433 & 0 & 0\\\\\n",
       "\t38 & 4 & 9 & 0 & 0 & 0 & 0 & 0 & 0\\\\\n",
       "\t39 & 4 & 10 & 1095 & 0 & 100278 & 0 & 0 & 0\\\\\n",
       "\t40 & 4 & 11 & 1097 & 0 & 100446 & 0 & 0 & 0\\\\\n",
       "\t41 & 5 & 1 & 0 & 0 & 0 & 0 & 0 & 0\\\\\n",
       "\t42 & 5 & 2 & 298 & 96632 & 38035 & 1011 & 0 & 0\\\\\n",
       "\t43 & 5 & 3 & 72 & 93532 & 10593 & 664 & 0 & 0\\\\\n",
       "\t44 & 5 & 6 & 88 & 78364 & 12129 & 568 & 0 & 0\\\\\n",
       "\t45 & 5 & 7 & 290 & 72746 & 37507 & 931 & 0 & 0\\\\\n",
       "\t46 & 5 & 9 & 0 & 0 & 0 & 0 & 0 & 0\\\\\n",
       "\t47 & 5 & 10 & 687 & 0 & 68431 & 0 & 0 & 0\\\\\n",
       "\t48 & 5 & 11 & 685 & 0 & 68263 & 0 & 0 & 0\\\\\n",
       "\t49 & 6 & 1 & 0 & 0 & 0 & 0 & 0 & 0\\\\\n",
       "\t50 & 6 & 2 & 443 & 132585 & 56252 & 1243 & 0 & 0\\\\\n",
       "\t51 & 6 & 3 & 113 & 98585 & 26859 & 719 & 0 & 0\\\\\n",
       "\t52 & 6 & 6 & 133 & 81409 & 28779 & 604 & 0 & 0\\\\\n",
       "\t53 & 6 & 7 & 433 & 103649 & 55592 & 1146 & 0 & 0\\\\\n",
       "\t54 & 6 & 9 & 0 & 0 & 0 & 0 & 0 & 0\\\\\n",
       "\t55 & 6 & 10 & 787 & 0 & 77028 & 0 & 0 & 0\\\\\n",
       "\t56 & 6 & 11 & 787 & 0 & 77028 & 0 & 0 & 0\\\\\n",
       "\t57 & 7 & 1 & 0 & 0 & 0 & 0 & 0 & 0\\\\\n",
       "\t58 & 7 & 2 & 1167 & 175776 & 119737 & 1907 & 0 & 0\\\\\n",
       "\t59 & 7 & 3 & 92 & 97305 & 13360 & 705 & 0 & 0\\\\\n",
       "\t60 & 7 & 6 & 112 & 79809 & 15280 & 588 & 0 & 0\\\\\n",
       "\t61 & 7 & 7 & 1157 & 142476 & 119077 & 1846 & 0 & 0\\\\\n",
       "\t62 & 7 & 9 & 0 & 0 & 0 & 0 & 0 & 0\\\\\n",
       "\t63 & 7 & 10 & 769 & 0 & 75590 & 0 & 0 & 0\\\\\n",
       "\t64 & 7 & 11 & 769 & 0 & 75590 & 0 & 0 & 0\\\\\n",
       "\t65 & 8 & 1 & 0 & 0 & 0 & 0 & 0 & 0\\\\\n",
       "\t66 & 8 & 2 & 352 & 118004 & 46771 & 1197 & 0 & 0\\\\\n",
       "\t67 & 8 & 3 & 123 & 105176 & 21262 & 748 & 0 & 0\\\\\n",
       "\t68 & 8 & 6 & 143 & 87501 & 23182 & 632 & 0 & 0\\\\\n",
       "\t69 & 8 & 7 & 342 & 89619 & 46111 & 1099 & 0 & 0\\\\\n",
       "\t70 & 8 & 9 & 0 & 0 & 0 & 0 & 0 & 0\\\\\n",
       "\t71 & 8 & 10 & 794 & 0 & 76886 & 0 & 0 & 0\\\\\n",
       "\t72 & 8 & 11 & 794 & 0 & 76886 & 0 & 0 & 0\\\\\n",
       "\t73 & 9 & 1 & 0 & 0 & 0 & 0 & 0 & 0\\\\\n",
       "\t74 & 9 & 2 & 409 & 189142 & 49274 & 1448 & 0 & 0\\\\\n",
       "\t75 & 9 & 3 & 170 & 100705 & 82537 & 761 & 0 & 0\\\\\n",
       "\t76 & 9 & 6 & 190 & 82941 & 84457 & 646 & 0 & 0\\\\\n",
       "\t77 & 9 & 7 & 399 & 162175 & 48614 & 1386 & 0 & 0\\\\\n",
       "\t78 & 9 & 9 & 0 & 0 & 0 & 0 & 0 & 0\\\\\n",
       "\t79 & 9 & 10 & 1043 & 0 & 96241 & 0 & 0 & 0\\\\\n",
       "\t80 & 9 & 11 & 1043 & 0 & 96241 & 0 & 0 & 0\\\\\n",
       "\t81 & 10 & 1 & 0 & 0 & 0 & 0 & 0 & 0\\\\\n",
       "\t82 & 10 & 2 & 375 & 136024 & 51156 & 1409 & 0 & 0\\\\\n",
       "\t83 & 10 & 3 & 115 & 101904 & 24067 & 719 & 0 & 0\\\\\n",
       "\t84 & 10 & 6 & 131 & 85966 & 25603 & 623 & 0 & 0\\\\\n",
       "\t85 & 10 & 7 & 367 & 105098 & 50628 & 1317 & 0 & 0\\\\\n",
       "\t86 & 10 & 9 & 0 & 0 & 0 & 0 & 0 & 0\\\\\n",
       "\t87 & 10 & 10 & 1015 & 0 & 94793 & 0 & 0 & 0\\\\\n",
       "\t88 & 10 & 11 & 1015 & 0 & 94793 & 0 & 0 & 0\\\\\n",
       "\t89 & 11 & 1 & 0 & 0 & 0 & 0 & 0 & 0\\\\\n",
       "\t90 & 11 & 2 & 353 & 164905 & 45573 & 2007 & 0 & 0\\\\\n",
       "\t91 & 11 & 3 & 93 & 97730 & 17421 & 701 & 0 & 0\\\\\n",
       "\t92 & 11 & 6 & 113 & 80806 & 19341 & 586 & 0 & 0\\\\\n",
       "\t93 & 11 & 7 & 343 & 125181 & 44913 & 1908 & 0 & 0\\\\\n",
       "\t94 & 11 & 9 & 0 & 0 & 0 & 0 & 0 & 0\\\\\n",
       "\t95 & 11 & 10 & 1632 & 0 & 142141 & 0 & 0 & 0\\\\\n",
       "\t96 & 11 & 11 & 1632 & 0 & 142141 & 0 & 0 & 0\\\\\n",
       "\t97 & 12 & 1 & 0 & 0 & 0 & 0 & 0 & 0\\\\\n",
       "\t98 & 12 & 2 & 302 & 138347 & 37912 & 1738 & 0 & 0\\\\\n",
       "\t99 & 12 & 3 & 96 & 95037 & 13133 & 695 & 0 & 0\\\\\n",
       "\t100 & 12 & 6 & 116 & 78197 & 15053 & 580 & 0 & 0\\\\\n",
       "\t101 & 12 & 7 & 292 & 107413 & 37252 & 1677 & 0 & 0\\\\\n",
       "\t102 & 12 & 9 & 0 & 0 & 0 & 0 & 0 & 0\\\\\n",
       "\t103 & 12 & 10 & 1450 & 0 & 128684 & 0 & 0 & 0\\\\\n",
       "\t104 & 12 & 11 & 1450 & 0 & 128684 & 0 & 0 & 0\\\\\n",
       "\t105 & 13 & 1 & 0 & 0 & 0 & 0 & 0 & 0\\\\\n",
       "\t106 & 13 & 2 & 1011 & 200268 & 108698 & 2054 & 0 & 0\\\\\n",
       "\t107 & 13 & 3 & 121 & 103523 & 29601 & 768 & 0 & 0\\\\\n",
       "\t108 & 13 & 6 & 141 & 85099 & 31521 & 650 & 0 & 0\\\\\n",
       "\t109 & 13 & 7 & 1001 & 159978 & 108038 & 1957 & 0 & 0\\\\\n",
       "\t110 & 13 & 9 & 0 & 0 & 0 & 0 & 0 & 0\\\\\n",
       "\t111 & 13 & 10 & 1018 & 0 & 94315 & 0 & 0 & 0\\\\\n",
       "\t112 & 13 & 11 & 1018 & 0 & 94315 & 0 & 0 & 0\\\\\n",
       "\t113 & 14 & 1 & 0 & 0 & 0 & 0 & 0 & 0\\\\\n",
       "\t114 & 14 & 2 & 416 & 118987 & 56668 & 1118 & 0 & 0\\\\\n",
       "\t115 & 14 & 3 & 142 & 109140 & 28796 & 784 & 0 & 0\\\\\n",
       "\t116 & 14 & 6 & 162 & 90961 & 30716 & 668 & 0 & 0\\\\\n",
       "\t117 & 14 & 7 & 406 & 96640 & 56008 & 1056 & 0 & 0\\\\\n",
       "\t118 & 14 & 9 & 0 & 0 & 0 & 0 & 0 & 0\\\\\n",
       "\t119 & 14 & 10 & 736 & 0 & 73171 & 0 & 0 & 0\\\\\n",
       "\t120 & 14 & 11 & 736 & 0 & 73171 & 0 & 0 & 0\\\\\n",
       "\t121 & 15 & 1 & 0 & 0 & 0 & 0 & 0 & 0\\\\\n",
       "\t122 & 15 & 2 & 308 & 105711 & 41327 & 1103 & 0 & 0\\\\\n",
       "\t123 & 15 & 3 & 91 & 107006 & 13166 & 779 & 0 & 0\\\\\n",
       "\t124 & 15 & 6 & 107 & 90228 & 14702 & 683 & 0 & 0\\\\\n",
       "\t125 & 15 & 7 & 300 & 78976 & 40799 & 1010 & 0 & 0\\\\\n",
       "\t126 & 15 & 9 & 0 & 0 & 0 & 0 & 0 & 0\\\\\n",
       "\t127 & 15 & 10 & 757 & 0 & 74865 & 0 & 0 & 0\\\\\n",
       "\t128 & 15 & 11 & 771 & 0 & 75033 & 0 & 0 & 0\\\\\n",
       "\t129 & 16 & 1 & 0 & 0 & 0 & 0 & 0 & 0\\\\\n",
       "\t130 & 16 & 2 & 365 & 109018 & 47345 & 1114 & 0 & 0\\\\\n",
       "\t131 & 16 & 3 & 91 & 115535 & 12932 & 854 & 0 & 0\\\\\n",
       "\t132 & 16 & 6 & 111 & 96469 & 14852 & 739 & 0 & 0\\\\\n",
       "\t133 & 16 & 7 & 355 & 81888 & 46685 & 1017 & 0 & 0\\\\\n",
       "\t134 & 16 & 9 & 0 & 0 & 0 & 0 & 0 & 0\\\\\n",
       "\t135 & 16 & 10 & 721 & 0 & 70871 & 0 & 0 & 0\\\\\n",
       "\t136 & 16 & 11 & 707 & 0 & 70703 & 0 & 0 & 0\\\\\n",
       "\t137 & 17 & 1 & 0 & 0 & 0 & 0 & 0 & 0\\\\\n",
       "\t138 & 17 & 2 & 1203 & 198918 & 128047 & 2113 & 0 & 0\\\\\n",
       "\t139 & 17 & 3 & 111 & 110780 & 24193 & 789 & 0 & 0\\\\\n",
       "\t140 & 17 & 6 & 131 & 92624 & 26113 & 674 & 0 & 0\\\\\n",
       "\t141 & 17 & 7 & 1193 & 161505 & 127387 & 2036 & 0 & 0\\\\\n",
       "\t142 & 17 & 9 & 0 & 0 & 0 & 0 & 0 & 0\\\\\n",
       "\t143 & 17 & 10 & 914 & 0 & 86079 & 0 & 0 & 0\\\\\n",
       "\t144 & 17 & 11 & 914 & 0 & 86079 & 0 & 0 & 0\\\\\n",
       "\t145 & 18 & 1 & 0 & 0 & 0 & 0 & 0 & 0\\\\\n",
       "\t146 & 18 & 2 & 355 & 123138 & 45032 & 1189 & 0 & 0\\\\\n",
       "\t147 & 18 & 3 & 103 & 97773 & 25374 & 711 & 0 & 0\\\\\n",
       "\t148 & 18 & 6 & 123 & 80827 & 27294 & 598 & 0 & 0\\\\\n",
       "\t149 & 18 & 7 & 345 & 94958 & 44372 & 1092 & 0 & 0\\\\\n",
       "\t150 & 18 & 9 & 0 & 0 & 0 & 0 & 0 & 0\\\\\n",
       "\t151 & 18 & 10 & 811 & 0 & 78500 & 0 & 0 & 0\\\\\n",
       "\t152 & 18 & 11 & 811 & 0 & 78500 & 0 & 0 & 0\\\\\n",
       "\\end{tabular}\n"
      ],
      "text/plain": [
       "    sample if. outUCastPkts inOctets outOctets inUcastPkts outNUCastPkts\n",
       "1        0   1            0        0         0           0             0\n",
       "2        0   2          672   184683     90820        2226             0\n",
       "3        0   3           96   116273     14370         866             0\n",
       "4        0   6          119    97039     16290         751             0\n",
       "5        0   7          678   149297     92040        2201             0\n",
       "6        0   9            0        0         0           0             0\n",
       "7        0  10         1621        0    142038           0             0\n",
       "8        0  11         1621        0    142038           0             0\n",
       "9        1   1            0        0         0           0             0\n",
       "10       1   2          376   143765     52072        1619             0\n",
       "11       1   3          105   138865     19345        1023             0\n",
       "12       1   6          122   116917     21265         906             0\n",
       "13       1   7          350   107185     49532        1486             0\n",
       "14       1   9            0        0         0           0             0\n",
       "15       1  10         1209        0    109328           0             0\n",
       "16       1  11         1209        0    109328           0             0\n",
       "17       2   1            0        0         0           0             0\n",
       "18       2   2          353   148319     48741        1805             0\n",
       "19       2   3          111   138016     16479        1019             0\n",
       "20       2   6          131   116547     18399         903             0\n",
       "21       2   7          343   116354     48081        1743             0\n",
       "22       2   9            0        0         0           0             0\n",
       "23       2  10         1468        0    130136           0             0\n",
       "24       2  11         1468        0    130136           0             0\n",
       "25       3   1            0        0         0           0             0\n",
       "26       3   2          391   151097     49396        1673             0\n",
       "27       3   3          107   116672     22340         871             0\n",
       "28       3   6          127    97440     24260         757             0\n",
       "29       3   7          381   116048     48736        1575             0\n",
       "30       3   9            0        0         0           0             0\n",
       "31       3  10         1266        0    114390           0             0\n",
       "32       3  11         1266        0    114390           0             0\n",
       "33       4   1            0        0         0           0             0\n",
       "34       4   2          425   141174     56971        1506             0\n",
       "35       4   3          132   107612     26716         767             0\n",
       "36       4   6          152    89764     28636         652             0\n",
       "37       4   7          415   112020     56311        1433             0\n",
       "38       4   9            0        0         0           0             0\n",
       "39       4  10         1095        0    100278           0             0\n",
       "40       4  11         1097        0    100446           0             0\n",
       "41       5   1            0        0         0           0             0\n",
       "42       5   2          298    96632     38035        1011             0\n",
       "43       5   3           72    93532     10593         664             0\n",
       "44       5   6           88    78364     12129         568             0\n",
       "45       5   7          290    72746     37507         931             0\n",
       "46       5   9            0        0         0           0             0\n",
       "47       5  10          687        0     68431           0             0\n",
       "48       5  11          685        0     68263           0             0\n",
       "49       6   1            0        0         0           0             0\n",
       "50       6   2          443   132585     56252        1243             0\n",
       "51       6   3          113    98585     26859         719             0\n",
       "52       6   6          133    81409     28779         604             0\n",
       "53       6   7          433   103649     55592        1146             0\n",
       "54       6   9            0        0         0           0             0\n",
       "55       6  10          787        0     77028           0             0\n",
       "56       6  11          787        0     77028           0             0\n",
       "57       7   1            0        0         0           0             0\n",
       "58       7   2         1167   175776    119737        1907             0\n",
       "59       7   3           92    97305     13360         705             0\n",
       "60       7   6          112    79809     15280         588             0\n",
       "61       7   7         1157   142476    119077        1846             0\n",
       "62       7   9            0        0         0           0             0\n",
       "63       7  10          769        0     75590           0             0\n",
       "64       7  11          769        0     75590           0             0\n",
       "65       8   1            0        0         0           0             0\n",
       "66       8   2          352   118004     46771        1197             0\n",
       "67       8   3          123   105176     21262         748             0\n",
       "68       8   6          143    87501     23182         632             0\n",
       "69       8   7          342    89619     46111        1099             0\n",
       "70       8   9            0        0         0           0             0\n",
       "71       8  10          794        0     76886           0             0\n",
       "72       8  11          794        0     76886           0             0\n",
       "73       9   1            0        0         0           0             0\n",
       "74       9   2          409   189142     49274        1448             0\n",
       "75       9   3          170   100705     82537         761             0\n",
       "76       9   6          190    82941     84457         646             0\n",
       "77       9   7          399   162175     48614        1386             0\n",
       "78       9   9            0        0         0           0             0\n",
       "79       9  10         1043        0     96241           0             0\n",
       "80       9  11         1043        0     96241           0             0\n",
       "81      10   1            0        0         0           0             0\n",
       "82      10   2          375   136024     51156        1409             0\n",
       "83      10   3          115   101904     24067         719             0\n",
       "84      10   6          131    85966     25603         623             0\n",
       "85      10   7          367   105098     50628        1317             0\n",
       "86      10   9            0        0         0           0             0\n",
       "87      10  10         1015        0     94793           0             0\n",
       "88      10  11         1015        0     94793           0             0\n",
       "89      11   1            0        0         0           0             0\n",
       "90      11   2          353   164905     45573        2007             0\n",
       "91      11   3           93    97730     17421         701             0\n",
       "92      11   6          113    80806     19341         586             0\n",
       "93      11   7          343   125181     44913        1908             0\n",
       "94      11   9            0        0         0           0             0\n",
       "95      11  10         1632        0    142141           0             0\n",
       "96      11  11         1632        0    142141           0             0\n",
       "97      12   1            0        0         0           0             0\n",
       "98      12   2          302   138347     37912        1738             0\n",
       "99      12   3           96    95037     13133         695             0\n",
       "100     12   6          116    78197     15053         580             0\n",
       "101     12   7          292   107413     37252        1677             0\n",
       "102     12   9            0        0         0           0             0\n",
       "103     12  10         1450        0    128684           0             0\n",
       "104     12  11         1450        0    128684           0             0\n",
       "105     13   1            0        0         0           0             0\n",
       "106     13   2         1011   200268    108698        2054             0\n",
       "107     13   3          121   103523     29601         768             0\n",
       "108     13   6          141    85099     31521         650             0\n",
       "109     13   7         1001   159978    108038        1957             0\n",
       "110     13   9            0        0         0           0             0\n",
       "111     13  10         1018        0     94315           0             0\n",
       "112     13  11         1018        0     94315           0             0\n",
       "113     14   1            0        0         0           0             0\n",
       "114     14   2          416   118987     56668        1118             0\n",
       "115     14   3          142   109140     28796         784             0\n",
       "116     14   6          162    90961     30716         668             0\n",
       "117     14   7          406    96640     56008        1056             0\n",
       "118     14   9            0        0         0           0             0\n",
       "119     14  10          736        0     73171           0             0\n",
       "120     14  11          736        0     73171           0             0\n",
       "121     15   1            0        0         0           0             0\n",
       "122     15   2          308   105711     41327        1103             0\n",
       "123     15   3           91   107006     13166         779             0\n",
       "124     15   6          107    90228     14702         683             0\n",
       "125     15   7          300    78976     40799        1010             0\n",
       "126     15   9            0        0         0           0             0\n",
       "127     15  10          757        0     74865           0             0\n",
       "128     15  11          771        0     75033           0             0\n",
       "129     16   1            0        0         0           0             0\n",
       "130     16   2          365   109018     47345        1114             0\n",
       "131     16   3           91   115535     12932         854             0\n",
       "132     16   6          111    96469     14852         739             0\n",
       "133     16   7          355    81888     46685        1017             0\n",
       "134     16   9            0        0         0           0             0\n",
       "135     16  10          721        0     70871           0             0\n",
       "136     16  11          707        0     70703           0             0\n",
       "137     17   1            0        0         0           0             0\n",
       "138     17   2         1203   198918    128047        2113             0\n",
       "139     17   3          111   110780     24193         789             0\n",
       "140     17   6          131    92624     26113         674             0\n",
       "141     17   7         1193   161505    127387        2036             0\n",
       "142     17   9            0        0         0           0             0\n",
       "143     17  10          914        0     86079           0             0\n",
       "144     17  11          914        0     86079           0             0\n",
       "145     18   1            0        0         0           0             0\n",
       "146     18   2          355   123138     45032        1189             0\n",
       "147     18   3          103    97773     25374         711             0\n",
       "148     18   6          123    80827     27294         598             0\n",
       "149     18   7          345    94958     44372        1092             0\n",
       "150     18   9            0        0         0           0             0\n",
       "151     18  10          811        0     78500           0             0\n",
       "152     18  11          811        0     78500           0             0\n",
       "    inNUcastPkts\n",
       "1              0\n",
       "2              0\n",
       "3              0\n",
       "4              0\n",
       "5              0\n",
       "6              0\n",
       "7              0\n",
       "8              0\n",
       "9              0\n",
       "10             0\n",
       "11             0\n",
       "12             0\n",
       "13             0\n",
       "14             0\n",
       "15             0\n",
       "16             0\n",
       "17             0\n",
       "18             0\n",
       "19             0\n",
       "20             0\n",
       "21             0\n",
       "22             0\n",
       "23             0\n",
       "24             0\n",
       "25             0\n",
       "26             0\n",
       "27             0\n",
       "28             0\n",
       "29             0\n",
       "30             0\n",
       "31             0\n",
       "32             0\n",
       "33             0\n",
       "34             0\n",
       "35             0\n",
       "36             0\n",
       "37             0\n",
       "38             0\n",
       "39             0\n",
       "40             0\n",
       "41             0\n",
       "42             0\n",
       "43             0\n",
       "44             0\n",
       "45             0\n",
       "46             0\n",
       "47             0\n",
       "48             0\n",
       "49             0\n",
       "50             0\n",
       "51             0\n",
       "52             0\n",
       "53             0\n",
       "54             0\n",
       "55             0\n",
       "56             0\n",
       "57             0\n",
       "58             0\n",
       "59             0\n",
       "60             0\n",
       "61             0\n",
       "62             0\n",
       "63             0\n",
       "64             0\n",
       "65             0\n",
       "66             0\n",
       "67             0\n",
       "68             0\n",
       "69             0\n",
       "70             0\n",
       "71             0\n",
       "72             0\n",
       "73             0\n",
       "74             0\n",
       "75             0\n",
       "76             0\n",
       "77             0\n",
       "78             0\n",
       "79             0\n",
       "80             0\n",
       "81             0\n",
       "82             0\n",
       "83             0\n",
       "84             0\n",
       "85             0\n",
       "86             0\n",
       "87             0\n",
       "88             0\n",
       "89             0\n",
       "90             0\n",
       "91             0\n",
       "92             0\n",
       "93             0\n",
       "94             0\n",
       "95             0\n",
       "96             0\n",
       "97             0\n",
       "98             0\n",
       "99             0\n",
       "100            0\n",
       "101            0\n",
       "102            0\n",
       "103            0\n",
       "104            0\n",
       "105            0\n",
       "106            0\n",
       "107            0\n",
       "108            0\n",
       "109            0\n",
       "110            0\n",
       "111            0\n",
       "112            0\n",
       "113            0\n",
       "114            0\n",
       "115            0\n",
       "116            0\n",
       "117            0\n",
       "118            0\n",
       "119            0\n",
       "120            0\n",
       "121            0\n",
       "122            0\n",
       "123            0\n",
       "124            0\n",
       "125            0\n",
       "126            0\n",
       "127            0\n",
       "128            0\n",
       "129            0\n",
       "130            0\n",
       "131            0\n",
       "132            0\n",
       "133            0\n",
       "134            0\n",
       "135            0\n",
       "136            0\n",
       "137            0\n",
       "138            0\n",
       "139            0\n",
       "140            0\n",
       "141            0\n",
       "142            0\n",
       "143            0\n",
       "144            0\n",
       "145            0\n",
       "146            0\n",
       "147            0\n",
       "148            0\n",
       "149            0\n",
       "150            0\n",
       "151            0\n",
       "152            0"
      ]
     },
     "execution_count": 1,
     "metadata": {},
     "output_type": "execute_result"
    }
   ],
   "source": [
    "temporaryFile <- tempfile()\n",
    "download.file(\"https://www.dropbox.com/s/zjf0lm830wzmkwz/snmp-delta.csv?dl=0\",\n",
    "                  destfile=temporaryFile, method=\"curl\", extra=\"-L\")\n",
    "snmpData = read.csv(temporaryFile)\n",
    "snmpData"
   ]
  },
  {
   "cell_type": "markdown",
   "metadata": {},
   "source": [
    "### Problem #1\n",
    "**Data Manipulation**: Show how to compute a table that contain the sum of all packets (input and outputt, unicast and non-unicast) for each interface and the sum of bytes (input and outputt, unicast and non-unicast) for each interface for each output link. The table should have a total of 3 columns (interface, packets, bytes) and a row for each interface. \n",
    "\n",
    "Refer to \"slices\" on page 5 and 6 of the SimpleR manual and the **data.frame** function to construct a data frame from vectors. In my solution, I defined functions that sliced the data for a specific interface and then used **sapply** to compute the data for all interfaces."
   ]
  },
  {
   "cell_type": "code",
   "execution_count": 3,
   "metadata": {
    "collapsed": false
   },
   "outputs": [
    {
     "data": {
      "text/html": [
       "<table>\n",
       "<thead><tr><th></th><th scope=col>interface</th><th scope=col>packets</th><th scope=col>bytes</th></tr></thead>\n",
       "<tbody>\n",
       "\t<tr><th scope=row>1</th><td>1</td><td>0</td><td>0</td></tr>\n",
       "\t<tr><th scope=row>2</th><td>2</td><td>39054</td><td>3946320</td></tr>\n",
       "\t<tr><th scope=row>3</th><td>3</td><td>17027</td><td>2493713</td></tr>\n",
       "\t<tr><th scope=row>4</th><td>6</td><td>15260</td><td>2186780</td></tr>\n",
       "\t<tr><th scope=row>5</th><td>7</td><td>37306</td><td>3340889</td></tr>\n",
       "\t<tr><th scope=row>6</th><td>9</td><td>0</td><td>0</td></tr>\n",
       "\t<tr><th scope=row>7</th><td>10</td><td>19793</td><td>1833765</td></tr>\n",
       "\t<tr><th scope=row>8</th><td>11</td><td>19793</td><td>1833765</td></tr>\n",
       "</tbody>\n",
       "</table>\n"
      ],
      "text/latex": [
       "\\begin{tabular}{r|lll}\n",
       "  & interface & packets & bytes\\\\\n",
       "\\hline\n",
       "\t1 & 1 & 0 & 0\\\\\n",
       "\t2 & 2 & 39054 & 3946320\\\\\n",
       "\t3 & 3 & 17027 & 2493713\\\\\n",
       "\t4 & 6 & 15260 & 2186780\\\\\n",
       "\t5 & 7 & 37306 & 3340889\\\\\n",
       "\t6 & 9 & 0 & 0\\\\\n",
       "\t7 & 10 & 19793 & 1833765\\\\\n",
       "\t8 & 11 & 19793 & 1833765\\\\\n",
       "\\end{tabular}\n"
      ],
      "text/plain": [
       "  interface packets   bytes\n",
       "1         1       0       0\n",
       "2         2   39054 3946320\n",
       "3         3   17027 2493713\n",
       "4         6   15260 2186780\n",
       "5         7   37306 3340889\n",
       "6         9       0       0\n",
       "7        10   19793 1833765\n",
       "8        11   19793 1833765"
      ]
     },
     "execution_count": 3,
     "metadata": {},
     "output_type": "execute_result"
    }
   ],
   "source": [
    "interface <- unique(snmpData$if.)\n",
    "packets <- sapply(interface,function(x){sum(snmpData[snmpData$if.==x,c(3,6,7,8)])})\n",
    "bytes <- sapply(interface,function(x){sum(snmpData[snmpData$if.==x,c(4,5)])})\n",
    "data.frame(interface,packets,bytes)"
   ]
  },
  {
   "cell_type": "markdown",
   "metadata": {},
   "source": [
    "### Problem #2\n",
    "**Summary Statistics**: Using the data for the inUcastPkts packets on interface #2, show how you would use R to compute the mean, variance, standard deviation and COV \"by hand\". For example, if you had read the data into data frame x, you could compute the sum of the first column using a **sum** over the slice of the inUcastPkts for interface 2, and then use this to compute the mean. You should  compute these terms using e.g. sum(), length() and other functions following the computations in the textbook. Your solution should show both the formulas and their output.\n",
    "\n",
    "It will be easiest to first extract the data you are working on to a vector that you use in the remainder of your calculations."
   ]
  },
  {
   "cell_type": "code",
   "execution_count": 5,
   "metadata": {
    "collapsed": false
   },
   "outputs": [
    {
     "data": {
      "text/html": [
       "<ol class=list-inline>\n",
       "\t<li>2226</li>\n",
       "\t<li>1619</li>\n",
       "\t<li>1805</li>\n",
       "\t<li>1673</li>\n",
       "\t<li>1506</li>\n",
       "\t<li>1011</li>\n",
       "\t<li>1243</li>\n",
       "\t<li>1907</li>\n",
       "\t<li>1197</li>\n",
       "\t<li>1448</li>\n",
       "\t<li>1409</li>\n",
       "\t<li>2007</li>\n",
       "\t<li>1738</li>\n",
       "\t<li>2054</li>\n",
       "\t<li>1118</li>\n",
       "\t<li>1103</li>\n",
       "\t<li>1114</li>\n",
       "\t<li>2113</li>\n",
       "\t<li>1189</li>\n",
       "</ol>\n"
      ],
      "text/latex": [
       "\\begin{enumerate*}\n",
       "\\item 2226\n",
       "\\item 1619\n",
       "\\item 1805\n",
       "\\item 1673\n",
       "\\item 1506\n",
       "\\item 1011\n",
       "\\item 1243\n",
       "\\item 1907\n",
       "\\item 1197\n",
       "\\item 1448\n",
       "\\item 1409\n",
       "\\item 2007\n",
       "\\item 1738\n",
       "\\item 2054\n",
       "\\item 1118\n",
       "\\item 1103\n",
       "\\item 1114\n",
       "\\item 2113\n",
       "\\item 1189\n",
       "\\end{enumerate*}\n"
      ],
      "text/markdown": [
       "1. 2226\n",
       "2. 1619\n",
       "3. 1805\n",
       "4. 1673\n",
       "5. 1506\n",
       "6. 1011\n",
       "7. 1243\n",
       "8. 1907\n",
       "9. 1197\n",
       "10. 1448\n",
       "11. 1409\n",
       "12. 2007\n",
       "13. 1738\n",
       "14. 2054\n",
       "15. 1118\n",
       "16. 1103\n",
       "17. 1114\n",
       "18. 2113\n",
       "19. 1189\n",
       "\n",
       "\n"
      ],
      "text/plain": [
       " [1] 2226 1619 1805 1673 1506 1011 1243 1907 1197 1448 1409 2007 1738 2054 1118\n",
       "[16] 1103 1114 2113 1189"
      ]
     },
     "execution_count": 5,
     "metadata": {},
     "output_type": "execute_result"
    },
    {
     "data": {
      "text/html": [
       "1551.57894736842"
      ],
      "text/latex": [
       "1551.57894736842"
      ],
      "text/markdown": [
       "1551.57894736842"
      ],
      "text/plain": [
       "[1] 1551.579"
      ]
     },
     "execution_count": 5,
     "metadata": {},
     "output_type": "execute_result"
    },
    {
     "data": {
      "text/html": [
       "143837.927977839"
      ],
      "text/latex": [
       "143837.927977839"
      ],
      "text/markdown": [
       "143837.927977839"
      ],
      "text/plain": [
       "[1] 143837.9"
      ]
     },
     "execution_count": 5,
     "metadata": {},
     "output_type": "execute_result"
    },
    {
     "data": {
      "text/html": [
       "379.259710459521"
      ],
      "text/latex": [
       "379.259710459521"
      ],
      "text/markdown": [
       "379.259710459521"
      ],
      "text/plain": [
       "[1] 379.2597"
      ]
     },
     "execution_count": 5,
     "metadata": {},
     "output_type": "execute_result"
    },
    {
     "data": {
      "text/html": [
       "0.244434684488836"
      ],
      "text/latex": [
       "0.244434684488836"
      ],
      "text/markdown": [
       "0.244434684488836"
      ],
      "text/plain": [
       "[1] 0.2444347"
      ]
     },
     "execution_count": 5,
     "metadata": {},
     "output_type": "execute_result"
    }
   ],
   "source": [
    "dat = snmpData[snmpData$if.==2,\"inUcastPkts\"]\n",
    "dat\n",
    "mean <- sum(dat)/length(dat)\n",
    "mean\n",
    "variance <- sum((dat-mean)^2)/(length(dat)-1)\n",
    "variance\n",
    "sd <- sqrt(variance)\n",
    "sd\n",
    "COV <- standarddeviation/mean\n",
    "COV"
   ]
  },
  {
   "cell_type": "markdown",
   "metadata": {},
   "source": [
    "### Problem #3\n",
    "**R Bulit-in**: Use the built-in R commands (see the SimpleR manual) to compute the mean, variance, sd & COV for the other columns (I don't think there is a function for COV in R, so you will need to compute that by hand, or better yet, define an R function).\n"
   ]
  },
  {
   "cell_type": "code",
   "execution_count": 6,
   "metadata": {
    "collapsed": false
   },
   "outputs": [
    {
     "data": {
      "text/html": [
       "<table>\n",
       "<thead><tr><th></th><th scope=col>mean</th><th scope=col>variance</th><th scope=col>sd</th><th scope=col>COV</th></tr></thead>\n",
       "<tbody>\n",
       "\t<tr><th scope=row>outUCastPkts</th><td>503.8947</td><td>84325.1</td><td>290.3878</td><td>0.5762867</td></tr>\n",
       "\t<tr><th scope=row>inOctets</th><td>146131.2</td><td>1011585204</td><td>31805.43</td><td>0.2176498</td></tr>\n",
       "\t<tr><th scope=row>outOctets</th><td>61569.84</td><td>782747504</td><td>27977.63</td><td>0.4544047</td></tr>\n",
       "\t<tr><th scope=row>inUcastPkts</th><td>1551.579</td><td>151828.9</td><td>389.6523</td><td>0.2511328</td></tr>\n",
       "\t<tr><th scope=row>outNUCastPkts</th><td>0</td><td>0</td><td>0</td><td>NaN</td></tr>\n",
       "\t<tr><th scope=row>inNUcastPkts</th><td>0</td><td>0</td><td>0</td><td>NaN</td></tr>\n",
       "</tbody>\n",
       "</table>\n"
      ],
      "text/latex": [
       "\\begin{tabular}{r|llll}\n",
       "  & mean & variance & sd & COV\\\\\n",
       "\\hline\n",
       "\toutUCastPkts & 503.8947 & 84325.1 & 290.3878 & 0.5762867\\\\\n",
       "\tinOctets & 146131.2 & 1011585204 & 31805.43 & 0.2176498\\\\\n",
       "\toutOctets & 61569.84 & 782747504 & 27977.63 & 0.4544047\\\\\n",
       "\tinUcastPkts & 1551.579 & 151828.9 & 389.6523 & 0.2511328\\\\\n",
       "\toutNUCastPkts & 0 & 0 & 0 & NaN\\\\\n",
       "\tinNUcastPkts & 0 & 0 & 0 & NaN\\\\\n",
       "\\end{tabular}\n"
      ],
      "text/plain": [
       "                     mean     variance         sd       COV\n",
       "outUCastPkts     503.8947      84325.1   290.3878 0.5762867\n",
       "inOctets      146131.2105 1011585204.1 31805.4273 0.2176498\n",
       "outOctets      61569.8421  782747504.5 27977.6251 0.4544047\n",
       "inUcastPkts     1551.5789     151828.9   389.6523 0.2511328\n",
       "outNUCastPkts      0.0000          0.0     0.0000       NaN\n",
       "inNUcastPkts       0.0000          0.0     0.0000       NaN"
      ]
     },
     "execution_count": 6,
     "metadata": {},
     "output_type": "execute_result"
    }
   ],
   "source": [
    "dat = snmpData[snmpData$if.==2,3:8]\n",
    "column <- names(dat)\n",
    "mean <- sapply(column,function(x){mean(dat[,x])})\n",
    "variance <- sapply(column,function(x){var(dat[,x])})\n",
    "sd <- sapply(column,function(x){sd(dat[,x])})\n",
    "COV <- sapply(column,function(x){sd(dat[,x])/mean(dat[,x])})\n",
    "data.frame(mean,variance,sd,COV)"
   ]
  },
  {
   "cell_type": "markdown",
   "metadata": {},
   "source": [
    "### Problem #4\n",
    "Plot histograms for the number of packets (input and output of all types) per interval on interfaces 2, 7, 10 and 11. You can arrange plots into a grid using the following commands:\n",
    "```\n",
    "  par(mfrow=c(2,2))\n",
    "  plot(....)\n",
    "  etc\n",
    "  plot(...)\n",
    "```"
   ]
  },
  {
   "cell_type": "code",
   "execution_count": 35,
   "metadata": {
    "collapsed": false
   },
   "outputs": [
    {
     "data": {
      "image/png": "[encoded data removed]",
      "text/plain": [
       "plot without title"
      ]
     },
     "metadata": {
      "image/svg+xml": {
       "isolated": true
      }
     },
     "output_type": "display_data"
    }
   ],
   "source": [
    "packets = function(x){\n",
    "    iface = snmpData[snmpData$if.==x,]\n",
    "    iface$outUCastPkts + iface$inUcastPkts + iface$outNUCastPkts + iface$inNUcastPkts\n",
    "}\n",
    "par(mfrow=c(2,2))\n",
    "plot(packets(2))\n",
    "plot(packets(7))\n",
    "plot(packets(10))\n",
    "plot(packets(11))\n"
   ]
  },
  {
   "cell_type": "markdown",
   "metadata": {},
   "source": [
    "### Problem #5\n",
    "Is the behavior across any of interfaces 2, 7, 10 and 11 correlated? In other words, are the number of packets sent on one link similar to the number of packets sent on another link? A similar property might be seen for the number of bytes. Use the \"correlation\" function (corr) across interfaces 2, 7, 10 and 11 for packets (as above) to argue what links have the most correlated behavior."
   ]
  },
  {
   "cell_type": "code",
   "execution_count": 91,
   "metadata": {
    "collapsed": false
   },
   "outputs": [
    {
     "data": {
      "text/html": [
       "<table>\n",
       "<thead><tr><th></th><th scope=col>Var1</th><th scope=col>Var2</th><th scope=col>correlation</th></tr></thead>\n",
       "<tbody>\n",
       "\t<tr><th scope=row>1</th><td>2</td><td>7</td><td>0.9991045</td></tr>\n",
       "\t<tr><th scope=row>2</th><td>2</td><td>10</td><td>0.3907492</td></tr>\n",
       "\t<tr><th scope=row>3</th><td>7</td><td>10</td><td>0.3964814</td></tr>\n",
       "\t<tr><th scope=row>4</th><td>2</td><td>11</td><td>0.390501</td></tr>\n",
       "\t<tr><th scope=row>5</th><td>7</td><td>11</td><td>0.3962536</td></tr>\n",
       "\t<tr><th scope=row>6</th><td>10</td><td>11</td><td>0.9998886</td></tr>\n",
       "</tbody>\n",
       "</table>\n"
      ],
      "text/latex": [
       "\\begin{tabular}{r|lll}\n",
       "  & Var1 & Var2 & correlation\\\\\n",
       "\\hline\n",
       "\t1 & 2 & 7 & 0.9991045\\\\\n",
       "\t2 & 2 & 10 & 0.3907492\\\\\n",
       "\t3 & 7 & 10 & 0.3964814\\\\\n",
       "\t4 & 2 & 11 & 0.390501\\\\\n",
       "\t5 & 7 & 11 & 0.3962536\\\\\n",
       "\t6 & 10 & 11 & 0.9998886\\\\\n",
       "\\end{tabular}\n"
      ],
      "text/plain": [
       "  Var1 Var2 correlation\n",
       "1    2    7   0.9991045\n",
       "2    2   10   0.3907492\n",
       "3    7   10   0.3964814\n",
       "4    2   11   0.3905010\n",
       "5    7   11   0.3962536\n",
       "6   10   11   0.9998886"
      ]
     },
     "execution_count": 91,
     "metadata": {},
     "output_type": "execute_result"
    },
    {
     "data": {
      "text/html": [
       "<table>\n",
       "<thead><tr><th></th><th scope=col>Var1</th><th scope=col>Var2</th><th scope=col>correlation</th></tr></thead>\n",
       "<tbody>\n",
       "\t<tr><th scope=row>Best Correlation</th><td>10</td><td>11</td><td>0.9998886</td></tr>\n",
       "</tbody>\n",
       "</table>\n"
      ],
      "text/latex": [
       "\\begin{tabular}{r|lll}\n",
       "  & Var1 & Var2 & correlation\\\\\n",
       "\\hline\n",
       "\tBest Correlation & 10 & 11 & 0.9998886\\\\\n",
       "\\end{tabular}\n"
      ],
      "text/plain": [
       "                 Var1 Var2 correlation\n",
       "Best Correlation   10   11   0.9998886"
      ]
     },
     "execution_count": 91,
     "metadata": {},
     "output_type": "execute_result"
    }
   ],
   "source": [
    "ifs = c(2,7,10,11)\n",
    "pairs = expand.grid(ifs,ifs)\n",
    "upairs = pairs[pairs[,1]<pairs[,2],]\n",
    "rownames(upairs) = NULL\n",
    "corr = function(x,y){cor(packets(x),packets(y))}\n",
    "cdata = data.frame(upairs,correlation=apply(upairs,1,function(x) corr(x[1],x[2])))\n",
    "cdata\n",
    "max = cdata[which.max(cdata$correlation),]\n",
    "rownames(max) = 'Best Correlation'\n",
    "max"
   ]
  },
  {
   "cell_type": "markdown",
   "metadata": {},
   "source": [
    "### Problem #6\n",
    "Using the equations from Baudec (section 2.2.3), compute the confidence interval for the mean for the number of inUcastPkts packets  per interval on interface #2. You can use the built in commands in R to compute the mean and variance (or sd). Compute the 90 and 95% confidence intervals \"by hand\" (i.e. follow the equations in the text and don't use the built-in tests)."
   ]
  },
  {
   "cell_type": "code",
   "execution_count": 98,
   "metadata": {
    "collapsed": false
   },
   "outputs": [
    {
     "data": {
      "text/html": [
       "<table>\n",
       "<thead><tr><th></th><th scope=col>mean</th><th scope=col>low95</th><th scope=col>high95</th><th scope=col>low99</th><th scope=col>high99</th></tr></thead>\n",
       "<tbody>\n",
       "\t<tr><th scope=row>1</th><td>1551.579</td><td>1376.373</td><td>1726.785</td><td>1321.319</td><td>1781.838</td></tr>\n",
       "</tbody>\n",
       "</table>\n"
      ],
      "text/latex": [
       "\\begin{tabular}{r|lllll}\n",
       "  & mean & low95 & high95 & low99 & high99\\\\\n",
       "\\hline\n",
       "\t1 & 1551.579 & 1376.373 & 1726.785 & 1321.319 & 1781.838\\\\\n",
       "\\end{tabular}\n"
      ],
      "text/plain": [
       "      mean    low95   high95    low99   high99\n",
       "1 1551.579 1376.373 1726.785 1321.319 1781.838"
      ]
     },
     "execution_count": 98,
     "metadata": {},
     "output_type": "execute_result"
    }
   ],
   "source": [
    "dat = snmpData[snmpData$if.==2,'inUcastPkts']\n",
    "n = function(x) {qnorm((1+x)/2)} # this function appears in the text (slightly rearanged)\n",
    "ci = function(conf,dist) { n(conf)*sd(dist)/sqrt(length(dist)) }\n",
    "m = mean(dat)\n",
    "data.frame(mean=m,low95=m-ci(.95,dat),high95=m+ci(.95,dat),low99=m-ci(.99,dat),high99=m+ci(.99,dat))\n",
    "                 "
   ]
  },
  {
   "cell_type": "markdown",
   "metadata": {},
   "source": [
    "### Problem #7\n",
    "Using paired confidence intervals (you can use the t.test function -- see SimpleR, page 69) to argue whether links 3 and 6 have a statistically identical number of total packets (input + output, all types) per sampling period at the 90, 95 and 99% confidence level. Show the calculations and justify your answer."
   ]
  },
  {
   "cell_type": "code",
   "execution_count": 104,
   "metadata": {
    "collapsed": false
   },
   "outputs": [
    {
     "data": {
      "text/plain": [
       "\n",
       "\tWelch Two Sample t-test\n",
       "\n",
       "data:  packets(3) and packets(6)\n",
       "t = 2.7712, df = 35.981, p-value = 0.008785\n",
       "alternative hypothesis: true difference in means is not equal to 0\n",
       "90 percent confidence interval:\n",
       "  36.34011 149.65989\n",
       "sample estimates:\n",
       "mean of x mean of y \n",
       " 896.1579  803.1579 \n"
      ]
     },
     "execution_count": 104,
     "metadata": {},
     "output_type": "execute_result"
    },
    {
     "data": {
      "text/plain": [
       "\n",
       "\tWelch Two Sample t-test\n",
       "\n",
       "data:  packets(3) and packets(6)\n",
       "t = 2.7712, df = 35.981, p-value = 0.008785\n",
       "alternative hypothesis: true difference in means is not equal to 0\n",
       "95 percent confidence interval:\n",
       "  24.93612 161.06388\n",
       "sample estimates:\n",
       "mean of x mean of y \n",
       " 896.1579  803.1579 \n"
      ]
     },
     "execution_count": 104,
     "metadata": {},
     "output_type": "execute_result"
    },
    {
     "data": {
      "text/plain": [
       "\n",
       "\tWelch Two Sample t-test\n",
       "\n",
       "data:  packets(3) and packets(6)\n",
       "t = 2.7712, df = 35.981, p-value = 0.008785\n",
       "alternative hypothesis: true difference in means is not equal to 0\n",
       "99 percent confidence interval:\n",
       "   1.731673 184.268327\n",
       "sample estimates:\n",
       "mean of x mean of y \n",
       " 896.1579  803.1579 \n"
      ]
     },
     "execution_count": 104,
     "metadata": {},
     "output_type": "execute_result"
    }
   ],
   "source": [
    "t.test(packets(3),packets(6),conf.level=.90)\n",
    "t.test(packets(3),packets(6),conf.level=.95)\n",
    "t.test(packets(3),packets(6),conf.level=.99)"
   ]
  },
  {
   "cell_type": "markdown",
   "metadata": {},
   "source": [
    "### Problem #8\n",
    "\n",
    "Use the R \"bootstrap\" method (see Boudec Algorithm 2.1 and http://www.statmethods.net/advstats/bootstrapping.html ) to compute the confidence interval for the MEDIAN number of total packets (input + output, all types) per sampling period for link 3 at the 90 and 95 level. "
   ]
  },
  {
   "cell_type": "code",
   "execution_count": null,
   "metadata": {
    "collapsed": true
   },
   "outputs": [],
   "source": []
  },
  {
   "cell_type": "markdown",
   "metadata": {},
   "source": [
    "### Problem #9\n",
    "Do the output packets of links 2 and 7 have a similar distribution of packets per samping period? One way to determine this is to use the correlation function. Another is to produce a qqplot showing  the relationship of one link to another. Produce such a plot and include it in your report."
   ]
  },
  {
   "cell_type": "code",
   "execution_count": 105,
   "metadata": {
    "collapsed": false
   },
   "outputs": [
    {
     "data": {
      "image/png": "[encoded data removed]",
      "text/plain": [
       "plot without title"
      ]
     },
     "metadata": {
      "image/svg+xml": {
       "isolated": true
      }
     },
     "output_type": "display_data"
    }
   ],
   "source": [
    "qqplot(packets(2),packets(7))"
   ]
  },
  {
   "cell_type": "markdown",
   "metadata": {},
   "source": [
    "### Problem #10\n",
    "This question does not use the data, but you need to produce an R program. Rather than record the full vector of data when computing a mean, you can use a pair of variables --  you simply record the sum of the terms in the vector (Sx) and the number of items (n) and then report Sx/n. Rearrange the equations equation for variance ( $ \\sum_i^n (x_i - \\bar x)^2 $ ) to demonstrate how you can compute the variance of an arbitrary number of data samples using a small, fixed number of variables, much as I demonstrated for computing the mean. Your solution will need to record three values from the data. You should show your derivation step-by-step. You can either do this using code (i.e. define a series of MyVar() functions that simplify expression into terms that don't involve the mean) or using math (notebooks support MathJax and LaTeX)."
   ]
  },
  {
   "cell_type": "code",
   "execution_count": 127,
   "metadata": {
    "collapsed": false
   },
   "outputs": [
    {
     "data": {
      "text/html": [
       "2.5"
      ],
      "text/latex": [
       "2.5"
      ],
      "text/markdown": [
       "2.5"
      ],
      "text/plain": [
       "[1] 2.5"
      ]
     },
     "execution_count": 127,
     "metadata": {},
     "output_type": "execute_result"
    },
    {
     "data": {
      "text/html": [
       "2.5"
      ],
      "text/latex": [
       "2.5"
      ],
      "text/markdown": [
       "2.5"
      ],
      "text/plain": [
       "[1] 2.5"
      ]
     },
     "execution_count": 127,
     "metadata": {},
     "output_type": "execute_result"
    }
   ],
   "source": [
    "running.none = c(0,0,0)\n",
    "running.var = function(new.x,old.var) {\n",
    "    sum = old.var[1]\n",
    "    count = old.var[2]\n",
    "    ssquares = old.var[3]\n",
    "    new.sum = sum + new.x\n",
    "    new.count = count + 1\n",
    "    new.ssquares = ssquares + new.x^2\n",
    "    c(new.sum, new.count, new.ssquares)\n",
    "}\n",
    "var.ofrunning = function(current.var) {\n",
    "    sum = current.var[1]\n",
    "    count = current.var[2]\n",
    "    ssquares = current.var[3]\n",
    "    m = sum/count\n",
    "    (ssquares + count*m^2 - 2*sum*m)/(count-1)\n",
    "}\n",
    "var(c(1,2,3,4,5))\n",
    "var.ofrunning(running.var(5,running.var(4,running.var(3,running.var(2,running.var(1,running.none))))))"
   ]
  },
  {
   "cell_type": "code",
   "execution_count": null,
   "metadata": {
    "collapsed": true
   },
   "outputs": [],
   "source": []
  }
 ],
 "metadata": {
  "kernelspec": {
   "display_name": "R",
   "language": "R",
   "name": "ir"
  },
  "language_info": {
   "codemirror_mode": "r",
   "file_extension": ".r",
   "mimetype": "text/x-r-source",
   "name": "R",
   "pygments_lexer": "r",
   "version": "3.2.2"
  }
 },
 "nbformat": 4,
 "nbformat_minor": 0
}
