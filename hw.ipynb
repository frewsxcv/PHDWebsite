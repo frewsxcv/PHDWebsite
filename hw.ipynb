{
 "cells": [
  {
   "cell_type": "markdown",
   "metadata": {},
   "source": [
    "# Hmwk #5 - Regression Analysis"
   ]
  },
  {
   "cell_type": "markdown",
   "metadata": {},
   "source": [
    "## Problem #1 - Trees"
   ]
  },
  {
   "cell_type": "markdown",
   "metadata": {},
   "source": [
    "Foresters want to measure the volume of a tree in order to estimate how much lumber they would get for that tree. Knowing the girth and height of the tree, one could apply a cylinder approximation, but the tree does not have a uniform girth along its entire length -- the tree gets much smaller at the top. The UsingR library has a data set \"trees\", that contains a set of measurements of the girth and height of a tree. Use the library to assess a linear model. For example, you might try:"
   ]
  },
  {
   "cell_type": "code",
   "execution_count": 1,
   "metadata": {
    "collapsed": false
   },
   "outputs": [
    {
     "ename": "ERROR",
     "evalue": "Error in library(UsingR): there is no package called ‘UsingR’\n",
     "output_type": "error",
     "traceback": [
      "Error in library(UsingR): there is no package called ‘UsingR’\n"
     ]
    },
    {
     "data": {
      "text/plain": [
       "     Girth           Height       Volume     \n",
       " Min.   : 8.30   Min.   :63   Min.   :10.20  \n",
       " 1st Qu.:11.05   1st Qu.:72   1st Qu.:19.40  \n",
       " Median :12.90   Median :76   Median :24.20  \n",
       " Mean   :13.25   Mean   :76   Mean   :30.17  \n",
       " 3rd Qu.:15.25   3rd Qu.:80   3rd Qu.:37.30  \n",
       " Max.   :20.60   Max.   :87   Max.   :77.00  "
      ]
     },
     "execution_count": 1,
     "metadata": {},
     "output_type": "execute_result"
    }
   ],
   "source": [
    "library(UsingR)\n",
    "summary(trees)"
   ]
  },
  {
   "cell_type": "markdown",
   "metadata": {},
   "source": [
    "** If we look at the regression model **"
   ]
  },
  {
   "cell_type": "code",
   "execution_count": 126,
   "metadata": {
    "collapsed": false
   },
   "outputs": [
    {
     "data": {
      "text/plain": [
       "\n",
       "Call:\n",
       "lm(formula = Volume ~ Height + Girth, data = trees)\n",
       "\n",
       "Residuals:\n",
       "    Min      1Q  Median      3Q     Max \n",
       "-6.4065 -2.6493 -0.2876  2.2003  8.4847 \n",
       "\n",
       "Coefficients:\n",
       "            Estimate Std. Error t value Pr(>|t|)    \n",
       "(Intercept) -57.9877     8.6382  -6.713 2.75e-07 ***\n",
       "Height        0.3393     0.1302   2.607   0.0145 *  \n",
       "Girth         4.7082     0.2643  17.816  < 2e-16 ***\n",
       "---\n",
       "Signif. codes:  0 ‘***’ 0.001 ‘**’ 0.01 ‘*’ 0.05 ‘.’ 0.1 ‘ ’ 1\n",
       "\n",
       "Residual standard error: 3.882 on 28 degrees of freedom\n",
       "Multiple R-squared:  0.948,\tAdjusted R-squared:  0.9442 \n",
       "F-statistic:   255 on 2 and 28 DF,  p-value: < 2.2e-16\n"
      ]
     },
     "execution_count": 126,
     "metadata": {},
     "output_type": "execute_result"
    }
   ],
   "source": [
    "m = lm(Volume ~ Height + Girth, data=trees)\n",
    "summary(m)"
   ]
  },
  {
   "cell_type": "markdown",
   "metadata": {},
   "source": [
    "This provides a model, but doesn't say if it's any good. Do the following using R -- i.e. use the output of the 'lm' linear model where possible. Show your work."
   ]
  },
  {
   "cell_type": "markdown",
   "metadata": {},
   "source": [
    "### What is the R^2 for this model"
   ]
  },
  {
   "cell_type": "code",
   "execution_count": 3,
   "metadata": {
    "collapsed": false
   },
   "outputs": [
    {
     "data": {
      "text/html": [
       "0.947950037781675"
      ],
      "text/latex": [
       "0.947950037781675"
      ],
      "text/markdown": [
       "0.947950037781675"
      ],
      "text/plain": [
       "[1] 0.94795"
      ]
     },
     "execution_count": 3,
     "metadata": {},
     "output_type": "execute_result"
    }
   ],
   "source": [
    "summary(m)$r.squared"
   ]
  },
  {
   "cell_type": "markdown",
   "metadata": {},
   "source": [
    "### Compute the 95% confidence interval for the Height parameter \n",
    "(**nb:** you're being asked to calculate the CI of the parameter from the multi-linear model, not the CI of the Height data itself). To do this, you would use the standard error (shown in the summary of the linear model -- e.g. 0.1302 for parameter Height) for each parameter -- this is the standard error for that parameter derived from the MSE as described in the slides concerning multi-linear regression. You would then conduct the T-distribution using that standard error with n-k-1 degrees of freedom. See the slides on linear regression."
   ]
  },
  {
   "cell_type": "code",
   "execution_count": 135,
   "metadata": {
    "collapsed": false
   },
   "outputs": [
    {
     "data": {
      "text/html": [
       "31"
      ],
      "text/latex": [
       "31"
      ],
      "text/markdown": [
       "31"
      ],
      "text/plain": [
       "[1] 31"
      ]
     },
     "execution_count": 135,
     "metadata": {},
     "output_type": "execute_result"
    },
    {
     "data": {
      "text/html": [
       "<ol class=list-inline>\n",
       "\t<li>0.0730621815181333</li>\n",
       "\t<li>0.605440286971269</li>\n",
       "</ol>\n"
      ],
      "text/latex": [
       "\\begin{enumerate*}\n",
       "\\item 0.0730621815181333\n",
       "\\item 0.605440286971269\n",
       "\\end{enumerate*}\n"
      ],
      "text/markdown": [
       "1. 0.0730621815181333\n",
       "2. 0.605440286971269\n",
       "\n",
       "\n"
      ],
      "text/plain": [
       "[1] 0.07306218 0.60544029"
      ]
     },
     "execution_count": 135,
     "metadata": {},
     "output_type": "execute_result"
    }
   ],
   "source": [
    "length(trees$Height)\n",
    "t = qt(1-0.05/2,32-2-1)\n",
    "c = summary(m)$coefficients[\"Height\",1]\n",
    "e = summary(m)$coefficients[\"Height\",2]\n",
    "c + c(-1,1)*t*e"
   ]
  },
  {
   "cell_type": "markdown",
   "metadata": {},
   "source": [
    "### Compute the 95% confidence interval for the Girth parameter \n",
    "(**nb:** as above). Verify your value using the **confint** function in R."
   ]
  },
  {
   "cell_type": "code",
   "execution_count": 136,
   "metadata": {
    "collapsed": false
   },
   "outputs": [
    {
     "data": {
      "text/html": [
       "<ol class=list-inline>\n",
       "\t<li>4.16767869046308</li>\n",
       "\t<li>5.24864231557194</li>\n",
       "</ol>\n"
      ],
      "text/latex": [
       "\\begin{enumerate*}\n",
       "\\item 4.16767869046308\n",
       "\\item 5.24864231557194\n",
       "\\end{enumerate*}\n"
      ],
      "text/markdown": [
       "1. 4.16767869046308\n",
       "2. 5.24864231557194\n",
       "\n",
       "\n"
      ],
      "text/plain": [
       "[1] 4.167679 5.248642"
      ]
     },
     "execution_count": 136,
     "metadata": {},
     "output_type": "execute_result"
    },
    {
     "data": {
      "text/html": [
       "<table>\n",
       "<thead><tr><th></th><th scope=col>2.5 %</th><th scope=col>97.5 %</th></tr></thead>\n",
       "<tbody>\n",
       "\t<tr><th scope=row>(Intercept)</th><td>-75.68226</td><td>-40.29306</td></tr>\n",
       "\t<tr><th scope=row>Height</th><td>0.07264863</td><td>0.60585384</td></tr>\n",
       "\t<tr><th scope=row>Girth</th><td>4.166839</td><td>5.249482</td></tr>\n",
       "</tbody>\n",
       "</table>\n"
      ],
      "text/latex": [
       "\\begin{tabular}{r|ll}\n",
       "  & 2.5 % & 97.5 %\\\\\n",
       "\\hline\n",
       "\t(Intercept) & -75.68226 & -40.29306\\\\\n",
       "\tHeight & 0.07264863 & 0.60585384\\\\\n",
       "\tGirth & 4.166839 & 5.249482\\\\\n",
       "\\end{tabular}\n"
      ],
      "text/markdown": [
       "1. -75.6822624733067\n",
       "2. 0.0726486261853791\n",
       "3. 4.16683898975583\n",
       "4. -40.293055363455\n",
       "5. 0.605853842304023\n",
       "6. 5.24948201627919\n",
       "\n",
       "\n"
      ],
      "text/plain": [
       "                   2.5 %      97.5 %\n",
       "(Intercept) -75.68226247 -40.2930554\n",
       "Height        0.07264863   0.6058538\n",
       "Girth         4.16683899   5.2494820"
      ]
     },
     "execution_count": 136,
     "metadata": {},
     "output_type": "execute_result"
    }
   ],
   "source": [
    "t = qt(1-0.05/2,32-2-1)\n",
    "c = summary(m)$coefficients[\"Girth\",1]\n",
    "e = summary(m)$coefficients[\"Girth\",2]\n",
    "c + c(-1,1)*t*e\n",
    "confint(m, level=0.95)"
   ]
  },
  {
   "cell_type": "markdown",
   "metadata": {},
   "source": [
    "### Does the Height parameter statistically equal zero? Does the Girth?"
   ]
  },
  {
   "cell_type": "markdown",
   "metadata": {
    "collapsed": true
   },
   "source": [
    "Neither confidence interval includes 0, so neither is statistically equal to 0."
   ]
  },
  {
   "cell_type": "markdown",
   "metadata": {},
   "source": [
    "### Complete this sentence:\n",
    "\"For every unit increase in Girth, the Volume increases by ______ and for every unit increase in Height, the Volume increases by ______\""
   ]
  },
  {
   "cell_type": "code",
   "execution_count": 17,
   "metadata": {
    "collapsed": false
   },
   "outputs": [
    {
     "data": {
      "text/html": [
       "<dl class=dl-horizontal>\n",
       "\t<dt>Height</dt>\n",
       "\t\t<dd>0.339251234244701</dd>\n",
       "\t<dt>Girth</dt>\n",
       "\t\t<dd>4.70816050301751</dd>\n",
       "</dl>\n"
      ],
      "text/latex": [
       "\\begin{description*}\n",
       "\\item[Height] 0.339251234244701\n",
       "\\item[Girth] 4.70816050301751\n",
       "\\end{description*}\n"
      ],
      "text/markdown": [
       "Height\n",
       ":   0.339251234244701Girth\n",
       ":   4.70816050301751\n",
       "\n"
      ],
      "text/plain": [
       "   Height     Girth \n",
       "0.3392512 4.7081605 "
      ]
     },
     "execution_count": 17,
     "metadata": {},
     "output_type": "execute_result"
    }
   ],
   "source": [
    "summary(m)$coefficients[2:3,1]"
   ]
  },
  {
   "cell_type": "markdown",
   "metadata": {},
   "source": [
    "## Problem #2 - Body Fat"
   ]
  },
  {
   "cell_type": "code",
   "execution_count": 39,
   "metadata": {
    "collapsed": false
   },
   "outputs": [],
   "source": [
    "load(\"fat.Rda\")"
   ]
  },
  {
   "cell_type": "markdown",
   "metadata": {},
   "source": [
    "The Body Mass Index (BMI) is a model to predict the percentage of body fat based on your weight and height. The VMI is defined as the ratio of weight (in kilograms) to the square of height (in metres). A BMI of 18.5 to 25 is considered \"healthy\", a BMI of 25 to 30 is \"overweight\" and a BMI over 30 is \"obese\". The dataset 'fat' from UsingR contains 19 factors. The true body fat is body.fat and BMI field is the BMI."
   ]
  },
  {
   "cell_type": "markdown",
   "metadata": {},
   "source": [
    "### Using the 'fat' data set, build a linear model\n",
    "of the body.fat predicted by BMI.\n",
    "Describe the linear model -- what are the intercept and slope.\n",
    "What is the $r^2$ of that model?\n"
   ]
  },
  {
   "cell_type": "code",
   "execution_count": 73,
   "metadata": {
    "collapsed": false
   },
   "outputs": [
    {
     "data": {
      "text/html": [
       "<dl class=dl-horizontal>\n",
       "\t<dt>(Intercept)</dt>\n",
       "\t\t<dd>32.1654231790683</dd>\n",
       "\t<dt>height</dt>\n",
       "\t\t<dd>-0.188555318406178</dd>\n",
       "</dl>\n"
      ],
      "text/latex": [
       "\\begin{description*}\n",
       "\\item[(Intercept)] 32.1654231790683\n",
       "\\item[height] -0.188555318406178\n",
       "\\end{description*}\n"
      ],
      "text/markdown": [
       "(Intercept)\n",
       ":   32.1654231790683height\n",
       ":   -0.188555318406178\n",
       "\n"
      ],
      "text/plain": [
       "(Intercept)      height \n",
       " 32.1654232  -0.1885553 "
      ]
     },
     "execution_count": 73,
     "metadata": {},
     "output_type": "execute_result"
    },
    {
     "data": {
      "text/html": [
       "0.00793995269574246"
      ],
      "text/latex": [
       "0.00793995269574246"
      ],
      "text/markdown": [
       "0.00793995269574246"
      ],
      "text/plain": [
       "[1] 0.007939953"
      ]
     },
     "execution_count": 73,
     "metadata": {},
     "output_type": "execute_result"
    }
   ],
   "source": [
    "m = lm(body.fat ~ height^2, data=fat)\n",
    "summary(m)$coefficients[,1]\n",
    "summary(m)$r.squared"
   ]
  },
  {
   "cell_type": "markdown",
   "metadata": {
    "collapsed": true
   },
   "source": [
    "### Come up with a minimal model that predicts body.fat using the other factors with an R2 of at least 0.72\n",
    "We will use these different factors to come up with a minimal model that predicts body.fat using the other factors with an R2 of at least 0.72. Each factor in the final model should be significant at the 95% level -- this means that the confidence interval of the parameter at the 95% confidence level should not include zero.\n",
    "\n",
    "Include your description showing both your final result and the process by which you achieve that result. Your model shouldn't use the \"density\" or \"body.fat.siri\" factors, as those are the \"gold standard\" measurements used to calculate body fat (using a dunk tank). I'm not certain what \"ffweight\" is, but don't use that either.\n",
    "\n",
    "You may want to understand the \"p-value\" for problem - basically, the p-value is the probability of observing a value at least as large as the \"t-value\" (which is the estimate / std. error). Effectively, this is providing a way to determine if that value is statistically equal to zero.\n",
    "\n",
    "You should describe the process you use, not just the end result. You should also insure that the linear model is valid, meaning that the predictors are not correlated, etc. Wikipedia has a good article on such \"stepwise refinement\" mechanisms [ http://en.wikipedia.org/wiki/Stepwise_regression ]. See also the discussion on page 125 of the book by Faraway on Practical Regression Analysis using R (on the couse web page or http://cran.r-project.org/doc/contrib/Faraway-PRA.pdf). They describe a \"backward\" and \"forward\" mechanism where you either start with all terms & toss some away or start adding terms to a null model."
   ]
  },
  {
   "cell_type": "code",
   "execution_count": 84,
   "metadata": {
    "collapsed": false
   },
   "outputs": [
    {
     "name": "stdout",
     "output_type": "stream",
     "text": [
      "'data.frame':\t252 obs. of  19 variables:\n",
      " $ case         : int  1 2 3 4 5 6 7 8 9 10 ...\n",
      " $ body.fat     : num  12.6 6.9 24.6 10.9 27.8 20.6 19 12.8 5.1 12 ...\n",
      " $ body.fat.siri: num  12.3 6.1 25.3 10.4 28.7 20.9 19.2 12.4 4.1 11.7 ...\n",
      " $ density      : num  1.07 1.09 1.04 1.08 1.03 ...\n",
      " $ age          : int  23 22 22 26 24 24 26 25 25 23 ...\n",
      " $ weight       : num  154 173 154 185 184 ...\n",
      " $ height       : num  67.8 72.2 66.2 72.2 71.2 ...\n",
      " $ BMI          : num  23.7 23.4 24.7 24.9 25.6 26.5 26.2 23.6 24.6 25.8 ...\n",
      " $ ffweight     : num  135 161 116 165 133 ...\n",
      " $ neck         : num  36.2 38.5 34 37.4 34.4 39 36.4 37.8 38.1 42.1 ...\n",
      " $ chest        : num  93.1 93.6 95.8 101.8 97.3 ...\n",
      " $ abdomen      : num  85.2 83 87.9 86.4 100 94.4 90.7 88.5 82.5 88.6 ...\n",
      " $ hip          : num  94.5 98.7 99.2 101.2 101.9 ...\n",
      " $ thigh        : num  59 58.7 59.6 60.1 63.2 66 58.4 60 62.9 63.1 ...\n",
      " $ knee         : num  37.3 37.3 38.9 37.3 42.2 42 38.3 39.4 38.3 41.7 ...\n",
      " $ ankle        : num  21.9 23.4 24 22.8 24 25.6 22.9 23.2 23.8 25 ...\n",
      " $ bicep        : num  32 30.5 28.8 32.4 32.2 35.7 31.9 30.5 35.9 35.6 ...\n",
      " $ forearm      : num  27.4 28.9 25.2 29.4 27.7 30.6 27.8 29 31.1 30 ...\n",
      " $ wrist        : num  17.1 18.2 16.6 18.2 17.7 18.8 17.7 18.8 18.2 19.2 ...\n"
     ]
    }
   ],
   "source": [
    "str(fat)"
   ]
  },
  {
   "cell_type": "code",
   "execution_count": 145,
   "metadata": {
    "collapsed": false,
    "scrolled": false
   },
   "outputs": [
    {
     "data": {
      "text/plain": [
       "\n",
       "Call:\n",
       "lm(formula = body.fat ~ age + weight + height + h2 + neck + chest + \n",
       "    abdomen + hip + thigh + knee + ankle + bicep + forearm + \n",
       "    wrist, data = fat)\n",
       "\n",
       "Residuals:\n",
       "     Min       1Q   Median       3Q      Max \n",
       "-10.2564  -2.5666  -0.0936   2.8862   9.3551 \n",
       "\n",
       "Coefficients:\n",
       "              Estimate Std. Error t value Pr(>|t|)    \n",
       "(Intercept) -1.335e+01  1.912e+01  -0.698  0.48561    \n",
       "age          5.680e-02  3.003e-02   1.892  0.05976 .  \n",
       "weight      -8.569e-02  5.735e-02  -1.494  0.13642    \n",
       "height      -1.616e-01  5.234e-01  -0.309  0.75785    \n",
       "h2           8.725e-04  4.641e-03   0.188  0.85104    \n",
       "neck        -4.306e-01  2.189e-01  -1.968  0.05028 .  \n",
       "chest       -1.901e-02  9.522e-02  -0.200  0.84194    \n",
       "abdomen      8.902e-01  8.419e-02  10.574  < 2e-16 ***\n",
       "hip         -1.963e-01  1.359e-01  -1.445  0.14976    \n",
       "thigh        2.364e-01  1.361e-01   1.737  0.08375 .  \n",
       "knee        -2.040e-02  2.293e-01  -0.089  0.92921    \n",
       "ankle        1.669e-01  2.063e-01   0.809  0.41943    \n",
       "bicep        1.562e-01  1.599e-01   0.977  0.32951    \n",
       "forearm      4.295e-01  1.849e-01   2.323  0.02105 *  \n",
       "wrist       -1.473e+00  4.968e-01  -2.966  0.00333 ** \n",
       "---\n",
       "Signif. codes:  0 ‘***’ 0.001 ‘**’ 0.01 ‘*’ 0.05 ‘.’ 0.1 ‘ ’ 1\n",
       "\n",
       "Residual standard error: 3.996 on 237 degrees of freedom\n",
       "Multiple R-squared:  0.749,\tAdjusted R-squared:  0.7342 \n",
       "F-statistic: 50.52 on 14 and 237 DF,  p-value: < 2.2e-16\n"
      ]
     },
     "execution_count": 145,
     "metadata": {},
     "output_type": "execute_result"
    },
    {
     "data": {
      "text/html": [
       "<table>\n",
       "<thead><tr><th></th><th scope=col>2.5 %</th><th scope=col>97.5 %</th></tr></thead>\n",
       "<tbody>\n",
       "\t<tr><th scope=row>(Intercept)</th><td>-51.02278</td><td> 24.31450</td></tr>\n",
       "\t<tr><th scope=row>age</th><td>-0.002353842</td><td> 0.115948556</td></tr>\n",
       "\t<tr><th scope=row>weight</th><td>-0.19866746</td><td> 0.02727878</td></tr>\n",
       "\t<tr><th scope=row>height</th><td>-1.1927555</td><td> 0.8696195</td></tr>\n",
       "\t<tr><th scope=row>h2</th><td>-0.008270864</td><td> 0.010015937</td></tr>\n",
       "\t<tr><th scope=row>neck</th><td>-0.8618192271</td><td> 0.0005310809</td></tr>\n",
       "\t<tr><th scope=row>chest</th><td>-0.2065884</td><td> 0.1685728</td></tr>\n",
       "\t<tr><th scope=row>abdomen</th><td>0.7243645</td><td>1.0560758</td></tr>\n",
       "\t<tr><th scope=row>hip</th><td>-0.46403146</td><td> 0.07133146</td></tr>\n",
       "\t<tr><th scope=row>thigh</th><td>-0.03177231</td><td> 0.50462279</td></tr>\n",
       "\t<tr><th scope=row>knee</th><td>-0.4721979</td><td> 0.4314046</td></tr>\n",
       "\t<tr><th scope=row>ankle</th><td>-0.2395920</td><td> 0.5733636</td></tr>\n",
       "\t<tr><th scope=row>bicep</th><td>-0.158733</td><td> 0.471145</td></tr>\n",
       "\t<tr><th scope=row>forearm</th><td>0.06517702</td><td>0.79372928</td></tr>\n",
       "\t<tr><th scope=row>wrist</th><td>-2.4521756</td><td>-0.4947929</td></tr>\n",
       "</tbody>\n",
       "</table>\n"
      ],
      "text/latex": [
       "\\begin{tabular}{r|ll}\n",
       "  & 2.5 % & 97.5 %\\\\\n",
       "\\hline\n",
       "\t(Intercept) & -51.02278 &  24.31450\\\\\n",
       "\tage & -0.002353842 &  0.115948556\\\\\n",
       "\tweight & -0.19866746 &  0.02727878\\\\\n",
       "\theight & -1.1927555 &  0.8696195\\\\\n",
       "\th2 & -0.008270864 &  0.010015937\\\\\n",
       "\tneck & -0.8618192271 &  0.0005310809\\\\\n",
       "\tchest & -0.2065884 &  0.1685728\\\\\n",
       "\tabdomen & 0.7243645 & 1.0560758\\\\\n",
       "\thip & -0.46403146 &  0.07133146\\\\\n",
       "\tthigh & -0.03177231 &  0.50462279\\\\\n",
       "\tknee & -0.4721979 &  0.4314046\\\\\n",
       "\tankle & -0.2395920 &  0.5733636\\\\\n",
       "\tbicep & -0.158733 &  0.471145\\\\\n",
       "\tforearm & 0.06517702 & 0.79372928\\\\\n",
       "\twrist & -2.4521756 & -0.4947929\\\\\n",
       "\\end{tabular}\n"
      ],
      "text/markdown": [
       "1. -51.022776813867\n",
       "2. -0.00235384236016266\n",
       "3. -0.198667462510052\n",
       "4. -1.19275545874224\n",
       "5. -0.0082708643298018\n",
       "6. -0.861819227062429\n",
       "7. -0.206588384111753\n",
       "8. 0.724364533525496\n",
       "9. -0.464031464081202\n",
       "10. -0.031772310730498\n",
       "11. -0.47219786616377\n",
       "12. -0.239591976679816\n",
       "13. -0.158732982255426\n",
       "14. 0.0651770205063567\n",
       "15. -2.45217563506158\n",
       "16. 24.3145012557765\n",
       "17. 0.115948555933036\n",
       "18. 0.0272787752764292\n",
       "19. 0.86961950580572\n",
       "20. 0.0100159373089475\n",
       "21. 0.000531080936988892\n",
       "22. 0.168572795462074\n",
       "23. 1.05607575625476\n",
       "24. 0.071331456256002\n",
       "25. 0.504622794771481\n",
       "26. 0.431404557040942\n",
       "27. 0.573363561291586\n",
       "28. 0.471144972927949\n",
       "29. 0.793729283510648\n",
       "30. -0.494792934612572\n",
       "\n",
       "\n"
      ],
      "text/plain": [
       "                    2.5 %        97.5 %\n",
       "(Intercept) -51.022776814 24.3145012558\n",
       "age          -0.002353842  0.1159485559\n",
       "weight       -0.198667463  0.0272787753\n",
       "height       -1.192755459  0.8696195058\n",
       "h2           -0.008270864  0.0100159373\n",
       "neck         -0.861819227  0.0005310809\n",
       "chest        -0.206588384  0.1685727955\n",
       "abdomen       0.724364534  1.0560757563\n",
       "hip          -0.464031464  0.0713314563\n",
       "thigh        -0.031772311  0.5046227948\n",
       "knee         -0.472197866  0.4314045570\n",
       "ankle        -0.239591977  0.5733635613\n",
       "bicep        -0.158732982  0.4711449729\n",
       "forearm       0.065177021  0.7937292835\n",
       "wrist        -2.452175635 -0.4947929346"
      ]
     },
     "execution_count": 145,
     "metadata": {},
     "output_type": "execute_result"
    }
   ],
   "source": [
    "m = lm(body.fat ~ age + weight + height + h2 + neck + chest + abdomen + hip + thigh + knee + ankle + bicep + forearm + wrist, data = fat)\n",
    "summary(m)\n",
    "confint(m,level=0.95)"
   ]
  },
  {
   "cell_type": "code",
   "execution_count": 146,
   "metadata": {
    "collapsed": false
   },
   "outputs": [
    {
     "data": {
      "text/html": [
       "0.702912526297341"
      ],
      "text/latex": [
       "0.702912526297341"
      ],
      "text/markdown": [
       "0.702912526297341"
      ],
      "text/plain": [
       "[1] 0.7029125"
      ]
     },
     "execution_count": 146,
     "metadata": {},
     "output_type": "execute_result"
    },
    {
     "data": {
      "text/html": [
       "<table>\n",
       "<thead><tr><th></th><th scope=col>2.5 %</th><th scope=col>97.5 %</th></tr></thead>\n",
       "<tbody>\n",
       "\t<tr><th scope=row>(Intercept)</th><td>-19.053785</td><td>  2.669796</td></tr>\n",
       "\t<tr><th scope=row>abdomen</th><td>0.6281773</td><td>0.7562157</td></tr>\n",
       "\t<tr><th scope=row>forearm</th><td>-0.1871929</td><td> 0.4742528</td></tr>\n",
       "\t<tr><th scope=row>wrist</th><td>-3.040072</td><td>-1.463612</td></tr>\n",
       "</tbody>\n",
       "</table>\n"
      ],
      "text/latex": [
       "\\begin{tabular}{r|ll}\n",
       "  & 2.5 % & 97.5 %\\\\\n",
       "\\hline\n",
       "\t(Intercept) & -19.053785 &   2.669796\\\\\n",
       "\tabdomen & 0.6281773 & 0.7562157\\\\\n",
       "\tforearm & -0.1871929 &  0.4742528\\\\\n",
       "\twrist & -3.040072 & -1.463612\\\\\n",
       "\\end{tabular}\n"
      ],
      "text/markdown": [
       "1. -19.0537852646462\n",
       "2. 0.628177289213893\n",
       "3. -0.187192936994316\n",
       "4. -3.04007202417072\n",
       "5. 2.66979589877091\n",
       "6. 0.756215660573424\n",
       "7. 0.474252822689717\n",
       "8. -1.46361198120105\n",
       "\n",
       "\n"
      ],
      "text/plain": [
       "                  2.5 %     97.5 %\n",
       "(Intercept) -19.0537853  2.6697959\n",
       "abdomen       0.6281773  0.7562157\n",
       "forearm      -0.1871929  0.4742528\n",
       "wrist        -3.0400720 -1.4636120"
      ]
     },
     "execution_count": 146,
     "metadata": {},
     "output_type": "execute_result"
    }
   ],
   "source": [
    "m = lm(body.fat ~ abdomen + forearm + wrist,data=fat)\n",
    "summary(m)$r.squared\n",
    "confint(m,level=0.95)"
   ]
  },
  {
   "cell_type": "code",
   "execution_count": 147,
   "metadata": {
    "collapsed": false
   },
   "outputs": [
    {
     "data": {
      "text/html": [
       "0.702037271426851"
      ],
      "text/latex": [
       "0.702037271426851"
      ],
      "text/markdown": [
       "0.702037271426851"
      ],
      "text/plain": [
       "[1] 0.7020373"
      ]
     },
     "execution_count": 147,
     "metadata": {},
     "output_type": "execute_result"
    },
    {
     "data": {
      "text/html": [
       "<table>\n",
       "<thead><tr><th></th><th scope=col>2.5 %</th><th scope=col>97.5 %</th></tr></thead>\n",
       "<tbody>\n",
       "\t<tr><th scope=row>(Intercept)</th><td>-17.754735</td><td>  3.431597</td></tr>\n",
       "\t<tr><th scope=row>abdomen</th><td>0.6359201</td><td>0.7607330</td></tr>\n",
       "\t<tr><th scope=row>wrist</th><td>-2.834614</td><td>-1.393002</td></tr>\n",
       "</tbody>\n",
       "</table>\n"
      ],
      "text/latex": [
       "\\begin{tabular}{r|ll}\n",
       "  & 2.5 % & 97.5 %\\\\\n",
       "\\hline\n",
       "\t(Intercept) & -17.754735 &   3.431597\\\\\n",
       "\tabdomen & 0.6359201 & 0.7607330\\\\\n",
       "\twrist & -2.834614 & -1.393002\\\\\n",
       "\\end{tabular}\n"
      ],
      "text/markdown": [
       "1. -17.754735372632\n",
       "2. 0.635920051384943\n",
       "3. -2.83461447379806\n",
       "4. 3.43159734232162\n",
       "5. 0.760733039307344\n",
       "6. -1.39300161905937\n",
       "\n",
       "\n"
      ],
      "text/plain": [
       "                  2.5 %    97.5 %\n",
       "(Intercept) -17.7547354  3.431597\n",
       "abdomen       0.6359201  0.760733\n",
       "wrist        -2.8346145 -1.393002"
      ]
     },
     "execution_count": 147,
     "metadata": {},
     "output_type": "execute_result"
    },
    {
     "data": {
      "text/html": [
       "0.619832427973975"
      ],
      "text/latex": [
       "0.619832427973975"
      ],
      "text/markdown": [
       "0.619832427973975"
      ],
      "text/plain": [
       "[1] 0.6198324"
      ]
     },
     "execution_count": 147,
     "metadata": {},
     "output_type": "execute_result"
    }
   ],
   "source": [
    "m = lm(body.fat ~ abdomen + wrist,data=fat)\n",
    "summary(m)$r.squared\n",
    "confint(m,level=0.95)\n",
    "cor(fat$abdomen,fat$wrist)"
   ]
  },
  {
   "cell_type": "code",
   "execution_count": 152,
   "metadata": {
    "collapsed": false
   },
   "outputs": [
    {
     "data": {
      "text/html": [
       "0.716661755325699"
      ],
      "text/latex": [
       "0.716661755325699"
      ],
      "text/markdown": [
       "0.716661755325699"
      ],
      "text/plain": [
       "[1] 0.7166618"
      ]
     },
     "execution_count": 152,
     "metadata": {},
     "output_type": "execute_result"
    },
    {
     "data": {
      "text/html": [
       "<table>\n",
       "<thead><tr><th></th><th scope=col>2.5 %</th><th scope=col>97.5 %</th></tr></thead>\n",
       "<tbody>\n",
       "\t<tr><th scope=row>(Intercept)</th><td>-54.889347</td><td>  4.295542</td></tr>\n",
       "\t<tr><th scope=row>abdomen</th><td>0.6250186</td><td>0.7487134</td></tr>\n",
       "\t<tr><th scope=row>wrist</th><td>-2.3562793</td><td>-0.8303911</td></tr>\n",
       "\t<tr><th scope=row>height</th><td>-0.1973408</td><td> 1.5174551</td></tr>\n",
       "\t<tr><th scope=row>h2</th><td>-0.0145030207</td><td>-0.0003298232</td></tr>\n",
       "</tbody>\n",
       "</table>\n"
      ],
      "text/latex": [
       "\\begin{tabular}{r|ll}\n",
       "  & 2.5 % & 97.5 %\\\\\n",
       "\\hline\n",
       "\t(Intercept) & -54.889347 &   4.295542\\\\\n",
       "\tabdomen & 0.6250186 & 0.7487134\\\\\n",
       "\twrist & -2.3562793 & -0.8303911\\\\\n",
       "\theight & -0.1973408 &  1.5174551\\\\\n",
       "\th2 & -0.0145030207 & -0.0003298232\\\\\n",
       "\\end{tabular}\n"
      ],
      "text/markdown": [
       "1. -54.8893471551607\n",
       "2. 0.625018577430425\n",
       "3. -2.35627925601533\n",
       "4. -0.197340763397258\n",
       "5. -0.0145030207495662\n",
       "6. 4.29554167200572\n",
       "7. 0.748713448108996\n",
       "8. -0.830391073391742\n",
       "9. 1.51745513936573\n",
       "10. -0.000329823227055596\n",
       "\n",
       "\n"
      ],
      "text/plain": [
       "                   2.5 %        97.5 %\n",
       "(Intercept) -54.88934716  4.2955416720\n",
       "abdomen       0.62501858  0.7487134481\n",
       "wrist        -2.35627926 -0.8303910734\n",
       "height       -0.19734076  1.5174551394\n",
       "h2           -0.01450302 -0.0003298232"
      ]
     },
     "execution_count": 152,
     "metadata": {},
     "output_type": "execute_result"
    },
    {
     "data": {
      "text/html": [
       "0.117195464683247"
      ],
      "text/latex": [
       "0.117195464683247"
      ],
      "text/markdown": [
       "0.117195464683247"
      ],
      "text/plain": [
       "[1] 0.1171955"
      ]
     },
     "execution_count": 152,
     "metadata": {},
     "output_type": "execute_result"
    },
    {
     "data": {
      "text/html": [
       "0.35707104992578"
      ],
      "text/latex": [
       "0.35707104992578"
      ],
      "text/markdown": [
       "0.35707104992578"
      ],
      "text/plain": [
       "[1] 0.357071"
      ]
     },
     "execution_count": 152,
     "metadata": {},
     "output_type": "execute_result"
    }
   ],
   "source": [
    "m = lm(body.fat ~ abdomen + wrist + height + h2,data=fat)\n",
    "summary(m)$r.squared\n",
    "confint(m,level=0.95)\n",
    "cor(fat$abdomen, h2)\n",
    "cor(fat$wrist,h2)"
   ]
  },
  {
   "cell_type": "code",
   "execution_count": 154,
   "metadata": {
    "collapsed": false
   },
   "outputs": [
    {
     "data": {
      "text/html": [
       "0.714024397417306"
      ],
      "text/latex": [
       "0.714024397417306"
      ],
      "text/markdown": [
       "0.714024397417306"
      ],
      "text/plain": [
       "[1] 0.7140244"
      ]
     },
     "execution_count": 154,
     "metadata": {},
     "output_type": "execute_result"
    },
    {
     "data": {
      "text/html": [
       "<table>\n",
       "<thead><tr><th></th><th scope=col>2.5 %</th><th scope=col>97.5 %</th></tr></thead>\n",
       "<tbody>\n",
       "\t<tr><th scope=row>(Intercept)</th><td>-14.587406</td><td>  6.563599</td></tr>\n",
       "\t<tr><th scope=row>abdomen</th><td>0.6220438</td><td>0.7458244</td></tr>\n",
       "\t<tr><th scope=row>wrist</th><td>-2.4197546</td><td>-0.8997127</td></tr>\n",
       "\t<tr><th scope=row>h2</th><td>-0.0032957945</td><td>-0.0007961312</td></tr>\n",
       "</tbody>\n",
       "</table>\n"
      ],
      "text/latex": [
       "\\begin{tabular}{r|ll}\n",
       "  & 2.5 % & 97.5 %\\\\\n",
       "\\hline\n",
       "\t(Intercept) & -14.587406 &   6.563599\\\\\n",
       "\tabdomen & 0.6220438 & 0.7458244\\\\\n",
       "\twrist & -2.4197546 & -0.8997127\\\\\n",
       "\th2 & -0.0032957945 & -0.0007961312\\\\\n",
       "\\end{tabular}\n"
      ],
      "text/markdown": [
       "1. -14.5874064453314\n",
       "2. 0.622043807430772\n",
       "3. -2.41975464737175\n",
       "4. -0.00329579447007437\n",
       "5. 6.56359930574026\n",
       "6. 0.745824421610187\n",
       "7. -0.899712691281303\n",
       "8. -0.000796131160437777\n",
       "\n",
       "\n"
      ],
      "text/plain": [
       "                    2.5 %        97.5 %\n",
       "(Intercept) -14.587406445  6.5635993057\n",
       "abdomen       0.622043807  0.7458244216\n",
       "wrist        -2.419754647 -0.8997126913\n",
       "h2           -0.003295794 -0.0007961312"
      ]
     },
     "execution_count": 154,
     "metadata": {},
     "output_type": "execute_result"
    }
   ],
   "source": [
    "m = lm(body.fat ~ abdomen + wrist + h2,data=fat)\n",
    "summary(m)$r.squared\n",
    "confint(m,level=0.95)"
   ]
  },
  {
   "cell_type": "code",
   "execution_count": 157,
   "metadata": {
    "collapsed": false
   },
   "outputs": [
    {
     "data": {
      "text/html": [
       "0.748584130235628"
      ],
      "text/latex": [
       "0.748584130235628"
      ],
      "text/markdown": [
       "0.748584130235628"
      ],
      "text/plain": [
       "[1] 0.7485841"
      ]
     },
     "execution_count": 157,
     "metadata": {},
     "output_type": "execute_result"
    },
    {
     "data": {
      "text/html": [
       "<table>\n",
       "<thead><tr><th></th><th scope=col>2.5 %</th><th scope=col>97.5 %</th></tr></thead>\n",
       "<tbody>\n",
       "\t<tr><th scope=row>(Intercept)</th><td>-108.35268</td><td>  11.47358</td></tr>\n",
       "\t<tr><th scope=row>abdomen</th><td>0.8360607</td><td>1.4720587</td></tr>\n",
       "\t<tr><th scope=row>wrist</th><td>-6.178059</td><td> 3.148614</td></tr>\n",
       "\t<tr><th scope=row>h2</th><td>-0.009790570</td><td> 0.009155918</td></tr>\n",
       "\t<tr><th scope=row>weight</th><td>-0.2051791</td><td> 0.4429732</td></tr>\n",
       "\t<tr><th scope=row>abdomen:weight</th><td>-0.0034225124</td><td>-0.0001016918</td></tr>\n",
       "\t<tr><th scope=row>wrist:weight</th><td>-0.02441947</td><td> 0.02646968</td></tr>\n",
       "\t<tr><th scope=row>h2:weight</th><td>-5.460715e-05</td><td> 4.284472e-05</td></tr>\n",
       "</tbody>\n",
       "</table>\n"
      ],
      "text/latex": [
       "\\begin{tabular}{r|ll}\n",
       "  & 2.5 % & 97.5 %\\\\\n",
       "\\hline\n",
       "\t(Intercept) & -108.35268 &   11.47358\\\\\n",
       "\tabdomen & 0.8360607 & 1.4720587\\\\\n",
       "\twrist & -6.178059 &  3.148614\\\\\n",
       "\th2 & -0.009790570 &  0.009155918\\\\\n",
       "\tweight & -0.2051791 &  0.4429732\\\\\n",
       "\tabdomen:weight & -0.0034225124 & -0.0001016918\\\\\n",
       "\twrist:weight & -0.02441947 &  0.02646968\\\\\n",
       "\th2:weight & -5.460715e-05 &  4.284472e-05\\\\\n",
       "\\end{tabular}\n"
      ],
      "text/markdown": [
       "1. -108.352679209869\n",
       "2. 0.836060746392757\n",
       "3. -6.17805943791239\n",
       "4. -0.00979057021860225\n",
       "5. -0.205179099014552\n",
       "6. -0.00342251242155682\n",
       "7. -0.0244194733394858\n",
       "8. -5.46071535385404e-05\n",
       "9. 11.473577790335\n",
       "10. 1.47205869746802\n",
       "11. 3.14861431500425\n",
       "12. 0.00915591842119499\n",
       "13. 0.442973172098575\n",
       "14. -0.000101691773470101\n",
       "15. 0.0264696782804283\n",
       "16. 4.28447156110656e-05\n",
       "\n",
       "\n"
      ],
      "text/plain": [
       "                       2.5 %        97.5 %\n",
       "(Intercept)    -1.083527e+02  1.147358e+01\n",
       "abdomen         8.360607e-01  1.472059e+00\n",
       "wrist          -6.178059e+00  3.148614e+00\n",
       "h2             -9.790570e-03  9.155918e-03\n",
       "weight         -2.051791e-01  4.429732e-01\n",
       "abdomen:weight -3.422512e-03 -1.016918e-04\n",
       "wrist:weight   -2.441947e-02  2.646968e-02\n",
       "h2:weight      -5.460715e-05  4.284472e-05"
      ]
     },
     "execution_count": 157,
     "metadata": {},
     "output_type": "execute_result"
    },
    {
     "data": {
      "text/html": [
       "0.887994941297629"
      ],
      "text/latex": [
       "0.887994941297629"
      ],
      "text/markdown": [
       "0.887994941297629"
      ],
      "text/plain": [
       "[1] 0.8879949"
      ]
     },
     "execution_count": 157,
     "metadata": {},
     "output_type": "execute_result"
    },
    {
     "data": {
      "text/html": [
       "0.729774893525298"
      ],
      "text/latex": [
       "0.729774893525298"
      ],
      "text/markdown": [
       "0.729774893525298"
      ],
      "text/plain": [
       "[1] 0.7297749"
      ]
     },
     "execution_count": 157,
     "metadata": {},
     "output_type": "execute_result"
    },
    {
     "data": {
      "text/html": [
       "0.36827963083614"
      ],
      "text/latex": [
       "0.36827963083614"
      ],
      "text/markdown": [
       "0.36827963083614"
      ],
      "text/plain": [
       "[1] 0.3682796"
      ]
     },
     "execution_count": 157,
     "metadata": {},
     "output_type": "execute_result"
    }
   ],
   "source": [
    "m = lm(body.fat ~ (abdomen + wrist + h2)* weight,data=fat)\n",
    "summary(m)$r.squared\n",
    "confint(m,level=0.95)\n",
    "cor(fat$abdomen,fat$weight)\n",
    "cor(fat$wrist,fat$weight)\n",
    "cor(h2,fat$weight)"
   ]
  },
  {
   "cell_type": "code",
   "execution_count": 165,
   "metadata": {
    "collapsed": false
   },
   "outputs": [
    {
     "data": {
      "text/html": [
       "0.731413373574171"
      ],
      "text/latex": [
       "0.731413373574171"
      ],
      "text/markdown": [
       "0.731413373574171"
      ],
      "text/plain": [
       "[1] 0.7314134"
      ]
     },
     "execution_count": 165,
     "metadata": {},
     "output_type": "execute_result"
    }
   ],
   "source": [
    "m = lm(body.fat ~ abdomen*weight,data=fat)\n",
    "summary(m)$r.squared"
   ]
  },
  {
   "cell_type": "markdown",
   "metadata": {},
   "source": [
    "## Problem #3 - Wireless networks\n",
    "\n",
    "This data contains measurements from 3 wireless network devices. One is an 802.11 \"Wifi\" interface running at 1Mbs/s. The second is that same interface running at 11Mb/s. Lastly, the same interface running at 54Mb/s. The data is stored as R vectors named x1, y1, x11, y11 and x54, y54. The X value is the packet size for the time measurement recorded at the corresponding Y value. The units are milliseconds. For example, x11[1] is 350 bytes and y11[1] is 1.436782 millseconds. It took 1.436782 milliseconds to transmit a 350 byte packet."
   ]
  },
  {
   "cell_type": "code",
   "execution_count": 173,
   "metadata": {
    "collapsed": true
   },
   "outputs": [],
   "source": [
    "x11 = c(350, 350, 350, 350, 350, 450, 450, 450, 450, 450, 550, 550, 550,\n",
    "550, 550, 650, 650, 650, 650, 650, 750, 750, 750, 750, 750, 850, 850,\n",
    "850, 850, 850, 950, 950, 950, 950, 950, 1050, 1050, 1050, 1050, 1050,\n",
    "1150, 1150, 1150, 1150, 1150, 1250, 1250, 1250, 1250, 1250, 1350,\n",
    "1350, 1350, 1350, 1350, 1450, 1450, 1450, 1450, 1450 )\n",
    "\n",
    "y11 = c(\n",
    "1.436782, 1.407063, 1.436782, 1.426737, 1.416832, 1.50015, 1.533978,\n",
    "1.50015, 1.522533, 1.511259, 1.619433, 1.619433, 1.576541, 1.576541,\n",
    "1.587050, 1.682935, 1.662787, 1.693193, 1.682935, 1.693193, 1.745505,\n",
    "1.755310, 1.765225, 1.755310, 1.755002, 1.833853, 1.805054, 1.824152,\n",
    "1.853568, 1.853568, 1.915342, 1.915342, 1.915342, 1.904762, 1.915342,\n",
    "1.992429, 1.982161, 1.992429, 1.961169, 1.971998, 2.072539, 2.052124,\n",
    "2.062281, 2.062281, 2.082466, 2.15378, 2.143623, 2.133561, 2.113718,\n",
    "2.103934, 2.182453, 2.182453, 2.182453, 2.154244, 2.182453, 2.241147,\n",
    "2.26142, 2.241147, 2.301496, 2.282063)\n",
    "\n",
    "x1 = c( 350, 350, 350, 350, 350, 450, 450, 450, 450, 450, 550, 550,\n",
    "550, 550, 550, 650, 650, 650, 650, 650, 750, 750, 750, 750, 750, 850,\n",
    "850, 850, 850, 850, 950, 950, 950, 950, 950, 1050, 1050, 1050, 1050,\n",
    "1050, 1150, 1150, 1150, 1150, 1150, 1250, 1250, 1250, 1250, 1250,\n",
    "1350, 1350, 1350, 1350, 1350, 1450, 1450, 1450, 1450, 1450)\n",
    "\n",
    "y1 = c( 4.161465, 4.078303, 4.078303, 4.078303, 4.078303, 4.741584,\n",
    "4.741584, 4.741584, 4.741584, 4.741584, 5.534034, 5.534034, 5.534034,\n",
    "5.534034, 5.534034, 6.30517, 6.30517, 6.30517, 6.30517, 6.30517,\n",
    "7.097232, 7.097232, 7.097232, 6.939625, 7.097232, 7.830854, 7.830854,\n",
    "7.830854, 7.830854, 7.830854, 8.403361, 8.403361, 8.403361, 8.403361,\n",
    "8.403361, 9.14913, 9.14913, 9.14913, 9.14913, 9.14913, 9.910803,\n",
    "9.910803, 9.910803, 9.910803, 9.910803, 10.81081, 10.81081, 10.55966,\n",
    "10.81081, 10.81081, 11.60093, 11.60093, 11.33787, 11.33787, 11.33787,\n",
    "12.16545, 12.16545, 12.16545, 12.16545, 12.16545)\n",
    "\n",
    "x54 = c( 350, 350, 350, 350, 450, 450, 450, 450, 550, 550, 550, 550,\n",
    "650, 650, 650, 650, 750, 750, 750, 750, 850, 850, 850, 850, 950, 950,\n",
    "950, 950, 1050, 1050, 1050, 1050, 1150, 1150, 1150, 1150, 1250, 1250,\n",
    "1250, 1250, 1350, 1350, 1350, 1350, 1450, 1450, 1450, 1450)\n",
    "\n",
    "y54 = c( 0.2812386, 0.2804341, 0.2798769, 0.2815553, 0.2995088,\n",
    "0.2986679, 0.3006705, 0.298454, 0.311886, 0.3199386, 0.3163556,\n",
    "0.3186439, 0.3333333, 0.3369953, 0.3340236, 0.3311258, 0.3412969,\n",
    "0.3373933, 0.341006, 0.3411456, 0.3531198, 0.3563284, 0.3578714,\n",
    "0.3521871, 0.3733154, 0.3752768, 0.3761803, 0.3780432, 0.3957888,\n",
    "0.3914660, 0.3928656, 0.3961651, 0.4116921, 0.4088307, 0.4083966,\n",
    "0.4038935, 0.4210704, 0.4251339, 0.4259488, 0.4252243, 0.4428698,\n",
    "0.4405869, 0.4386157, 0.4402959, 0.4577287, 0.4561211, 0.4573938,\n",
    "0.4607658)"
   ]
  },
  {
   "cell_type": "code",
   "execution_count": 111,
   "metadata": {
    "collapsed": false
   },
   "outputs": [
    {
     "data": {
      "image/png": "[encoded data removed]",
      "text/plain": [
       "plot without title"
      ]
     },
     "metadata": {
      "image/svg+xml": {
       "isolated": true
      }
     },
     "output_type": "display_data"
    },
    {
     "data": {
      "image/png": "[encoded data removed]",
      "text/plain": [
       "plot without title"
      ]
     },
     "metadata": {
      "image/svg+xml": {
       "isolated": true
      }
     },
     "output_type": "display_data"
    }
   ],
   "source": [
    "plot(x11,y11)\n",
    "plot(x1,y1)"
   ]
  },
  {
   "cell_type": "markdown",
   "metadata": {},
   "source": [
    "### Answer the following questions:\n",
    "\n",
    "To answer these questions, you should use the lecture slides on linear regression and section 13 from the SimpleR.pdf book from the course website (page 77). You can also refer to the material by Boudec, but his write-up is, as per normal, complex.\n",
    "\n",
    "* Using R as a calculator, but not using the built-in regression functions, calculate using the equations in the Linear Regression slides:\n",
    "* The slope (b) and intercept (a) of the regression model for the 1Mb/s network (using x1, y1)\n",
    "* The coefficient of determination for the model for the 1Mb/s network (using x1,y1)\n",
    "* The standard deviation for slope & intercept and the 95% confidence interval for the 1Mb/s network (using x1,y1)\n",
    "* The predicted time, standard deviation and 95% confidence interval for the predicted time to transmit a 40 byte Wifi packet for the 1Mb/s network (using x1,y1)\n",
    "* The predicted time, standard deviation and 95% confidence interval to transmit a 750 byte packet for the 1Mb/s network (using x1,y1)"
   ]
  },
  {
   "cell_type": "code",
   "execution_count": 171,
   "metadata": {
    "collapsed": false
   },
   "outputs": [
    {
     "data": {
      "text/html": [
       "1.49211468927739"
      ],
      "text/latex": [
       "1.49211468927739"
      ],
      "text/markdown": [
       "1.49211468927739"
      ],
      "text/plain": [
       "[1] 1.492115"
      ]
     },
     "execution_count": 171,
     "metadata": {},
     "output_type": "execute_result"
    },
    {
     "data": {
      "text/html": [
       "0.00736104904895105"
      ],
      "text/latex": [
       "0.00736104904895105"
      ],
      "text/markdown": [
       "0.00736104904895105"
      ],
      "text/plain": [
       "[1] 0.007361049"
      ]
     },
     "execution_count": 171,
     "metadata": {},
     "output_type": "execute_result"
    },
    {
     "data": {
      "text/html": [
       "0.999155065938872"
      ],
      "text/latex": [
       "0.999155065938872"
      ],
      "text/markdown": [
       "0.999155065938872"
      ],
      "text/plain": [
       "[1] 0.9991551"
      ]
     },
     "execution_count": 171,
     "metadata": {},
     "output_type": "execute_result"
    },
    {
     "data": {
      "text/plain": [
       "\n",
       "Call:\n",
       "lm(formula = y1 ~ x1)\n",
       "\n",
       "Coefficients:\n",
       "(Intercept)           x1  \n",
       "   1.492115     0.007361  \n"
      ]
     },
     "execution_count": 171,
     "metadata": {},
     "output_type": "execute_result"
    },
    {
     "data": {
      "text/html": [
       "0.999155065938873"
      ],
      "text/latex": [
       "0.999155065938873"
      ],
      "text/markdown": [
       "0.999155065938873"
      ],
      "text/plain": [
       "[1] 0.9991551"
      ]
     },
     "execution_count": 171,
     "metadata": {},
     "output_type": "execute_result"
    }
   ],
   "source": [
    "intercept = function(x,y){\n",
    "    n = length(x)\n",
    "    sy = sum(y)\n",
    "    sx = sum(x)\n",
    "    sx2 = sum(x^2)\n",
    "    sxy = sum(x*y)\n",
    "    (sy*sx2-sx*sxy)/(n*sx2 - sx^2)\n",
    "}\n",
    "slope = function(x,y){\n",
    "    n = length(x)\n",
    "    sy = sum(y)\n",
    "    sx = sum(x)\n",
    "    sx2 = sum(x^2)\n",
    "    sxy = sum(x*y)\n",
    "    (n*sxy-sx*sy)/(n*sx2 - sx^2)    \n",
    "}\n",
    "cod = function(x,y){\n",
    "    n = length(x) - 1\n",
    "    mx = mean(x)\n",
    "    my = mean(y)\n",
    "    (sum((x-mx)*(y-my))/(n*(sd(x)*sd(y))))^2\n",
    "}\n",
    "ci = function(x,y) {\n",
    "    t = qt(1-0.05/2,(length(x)-2)\n",
    "    c = slope(x,y)\n",
    "    e = summary(m)$coefficients[\"Girth\",2]\n",
    "    c + c(-1,1)*t*e\n",
    "}\n",
    "intercept(x1,y1)\n",
    "slope(x1,y1)\n",
    "cod(x1,y1)\n",
    "m = lm(y1 ~ x1)\n",
    "m\n",
    "summary(m)$r.squared"
   ]
  },
  {
   "cell_type": "markdown",
   "metadata": {},
   "source": [
    "### Settle a law suit\n",
    "\n",
    "Using the 'lm' functions in R or the simple.lm functions from the UsingR package (documented in the Simple R guide, section 13 page 77), answer the following questions\n",
    "* Prepare a plot of the data, the regression model and the 95% confidence interval for each of the data sets. Label the plot with the parameters of the regression model. If you plot all the data on a single plot, you can put the parameters in the legend rather than the title.\n",
    "* Larry the Lawyer wants to sue because the 11Mb/s network is not 11 times \"faster\" than the 1Mb/s network. Compare the slope (time per byte) and intercept (overhead per packet). Is the 11Mb/s network 11 times faster at a 95% confidence level? Is the overhead different?\n",
    "* Using your models, predict the time to transmit a 40 byte packet using each network (using a 95% confidence interval). What's Larry doing now (i.e. crying or filiing a suit?)\n",
    "* Repeat that for a 750 and 1500 byte packet. Does Larry still have a case? What if you compare the time to transmit a 40 byte packet to a 1500 byte packet, which is 37 times bigger?\n",
    "* For the 54Mb/s data, argue that the regression model is or is not appropriate for the data. Use the full range of techniques described in Jain and in class. Are there specific measurement samples which seem to be more problematic than others? Which ones?"
   ]
  },
  {
   "cell_type": "code",
   "execution_count": 183,
   "metadata": {
    "collapsed": false
   },
   "outputs": [
    {
     "data": {
      "text/plain": [
       "\n",
       "Call:\n",
       "lm(formula = y1 ~ x1)\n",
       "\n",
       "Coefficients:\n",
       "(Intercept)           x1  \n",
       "   1.492115     0.007361  \n"
      ]
     },
     "execution_count": 183,
     "metadata": {},
     "output_type": "execute_result"
    },
    {
     "data": {
      "text/plain": [
       "\n",
       "Call:\n",
       "lm(formula = y11 ~ x11)\n",
       "\n",
       "Coefficients:\n",
       "(Intercept)          x11  \n",
       "  1.1810648    0.0007561  \n"
      ]
     },
     "execution_count": 183,
     "metadata": {},
     "output_type": "execute_result"
    },
    {
     "data": {
      "text/plain": [
       "\n",
       "Call:\n",
       "lm(formula = y54 ~ x54)\n",
       "\n",
       "Coefficients:\n",
       "(Intercept)          x54  \n",
       "  0.2263869    0.0001583  \n"
      ]
     },
     "execution_count": 183,
     "metadata": {},
     "output_type": "execute_result"
    },
    {
     "data": {
      "text/html": [
       "<table>\n",
       "<thead><tr><th></th><th scope=col>2.5 %</th><th scope=col>97.5 %</th></tr></thead>\n",
       "<tbody>\n",
       "\t<tr><th scope=row>(Intercept)</th><td>1.437881</td><td>1.546349</td></tr>\n",
       "\t<tr><th scope=row>x1</th><td>0.007304786</td><td>0.007417312</td></tr>\n",
       "</tbody>\n",
       "</table>\n"
      ],
      "text/latex": [
       "\\begin{tabular}{r|ll}\n",
       "  & 2.5 % & 97.5 %\\\\\n",
       "\\hline\n",
       "\t(Intercept) & 1.437881 & 1.546349\\\\\n",
       "\tx1 & 0.007304786 & 0.007417312\\\\\n",
       "\\end{tabular}\n"
      ],
      "text/markdown": [
       "1. 1.43788086000813\n",
       "2. 0.00730478597465865\n",
       "3. 1.54634851854665\n",
       "4. 0.00741731212324345\n",
       "\n",
       "\n"
      ],
      "text/plain": [
       "                  2.5 %      97.5 %\n",
       "(Intercept) 1.437880860 1.546348519\n",
       "x1          0.007304786 0.007417312"
      ]
     },
     "execution_count": 183,
     "metadata": {},
     "output_type": "execute_result"
    },
    {
     "data": {
      "text/html": [
       "<table>\n",
       "<thead><tr><th></th><th scope=col>2.5 %</th><th scope=col>97.5 %</th></tr></thead>\n",
       "<tbody>\n",
       "\t<tr><th scope=row>(Intercept)</th><td>1.166855</td><td>1.195275</td></tr>\n",
       "\t<tr><th scope=row>x11</th><td>0.0007413121</td><td>0.0007707959</td></tr>\n",
       "</tbody>\n",
       "</table>\n"
      ],
      "text/latex": [
       "\\begin{tabular}{r|ll}\n",
       "  & 2.5 % & 97.5 %\\\\\n",
       "\\hline\n",
       "\t(Intercept) & 1.166855 & 1.195275\\\\\n",
       "\tx11 & 0.0007413121 & 0.0007707959\\\\\n",
       "\\end{tabular}\n"
      ],
      "text/markdown": [
       "1. 1.16685465250519\n",
       "2. 0.000741312149688242\n",
       "3. 1.19527498898665\n",
       "4. 0.000770795878283786\n",
       "\n",
       "\n"
      ],
      "text/plain": [
       "                   2.5 %       97.5 %\n",
       "(Intercept) 1.1668546525 1.1952749890\n",
       "x11         0.0007413121 0.0007707959"
      ]
     },
     "execution_count": 183,
     "metadata": {},
     "output_type": "execute_result"
    },
    {
     "data": {
      "text/html": [
       "<table>\n",
       "<thead><tr><th></th><th scope=col>2.5 %</th><th scope=col>97.5 %</th></tr></thead>\n",
       "<tbody>\n",
       "\t<tr><th scope=row>(Intercept)</th><td>0.2234496</td><td>0.2293243</td></tr>\n",
       "\t<tr><th scope=row>x54</th><td>0.0001552897</td><td>0.0001613841</td></tr>\n",
       "</tbody>\n",
       "</table>\n"
      ],
      "text/latex": [
       "\\begin{tabular}{r|ll}\n",
       "  & 2.5 % & 97.5 %\\\\\n",
       "\\hline\n",
       "\t(Intercept) & 0.2234496 & 0.2293243\\\\\n",
       "\tx54 & 0.0001552897 & 0.0001613841\\\\\n",
       "\\end{tabular}\n"
      ],
      "text/markdown": [
       "1. 0.223449575523253\n",
       "2. 0.000155289653059179\n",
       "3. 0.22932425440099\n",
       "4. 0.000161384142395367\n",
       "\n",
       "\n"
      ],
      "text/plain": [
       "                   2.5 %       97.5 %\n",
       "(Intercept) 0.2234495755 0.2293242544\n",
       "x54         0.0001552897 0.0001613841"
      ]
     },
     "execution_count": 183,
     "metadata": {},
     "output_type": "execute_result"
    }
   ],
   "source": [
    "l1 = lm(y1 ~ x1)\n",
    "l11 = lm(y11 ~ x11)\n",
    "l54 = lm(y54 ~ x54)\n",
    "l1\n",
    "l11\n",
    "l54\n",
    "confint(l1)\n",
    "confint(l11)\n",
    "confint(l54)"
   ]
  },
  {
   "cell_type": "code",
   "execution_count": 184,
   "metadata": {
    "collapsed": false
   },
   "outputs": [
    {
     "data": {
      "image/png": "[encoded data removed]",
      "text/plain": [
       "plot without title"
      ]
     },
     "metadata": {
      "image/svg+xml": {
       "isolated": true
      }
     },
     "output_type": "display_data"
    },
    {
     "data": {
      "image/png": "[encoded data removed]",
      "text/plain": [
       "plot without title"
      ]
     },
     "metadata": {
      "image/svg+xml": {
       "isolated": true
      }
     },
     "output_type": "display_data"
    },
    {
     "data": {
      "image/png": "[encoded data removed]",
      "text/plain": [
       "plot without title"
      ]
     },
     "metadata": {
      "image/svg+xml": {
       "isolated": true
      }
     },
     "output_type": "display_data"
    }
   ],
   "source": [
    "plot(x1,y1)\n",
    "abline(l1)\n",
    "plot(x11,y11)\n",
    "abline(l11)\n",
    "plot(x54,y54)\n",
    "abline(l54)"
   ]
  },
  {
   "cell_type": "code",
   "execution_count": 185,
   "metadata": {
    "collapsed": false
   },
   "outputs": [
    {
     "data": {
      "text/html": [
       "<strong>x1:</strong> 1494.35222165345"
      ],
      "text/latex": [
       "\\textbf{x1:} 1494.35222165345"
      ],
      "text/markdown": [
       "**x1:** 1494.35222165345"
      ],
      "text/plain": [
       "      x1 \n",
       "1494.352 "
      ]
     },
     "execution_count": 185,
     "metadata": {},
     "output_type": "execute_result"
    },
    {
     "data": {
      "text/html": [
       "<strong>x11:</strong> 1322.6568227948"
      ],
      "text/latex": [
       "\\textbf{x11:} 1322.6568227948"
      ],
      "text/markdown": [
       "**x11:** 1322.6568227948"
      ],
      "text/plain": [
       "     x11 \n",
       "1322.657 "
      ]
     },
     "execution_count": 185,
     "metadata": {},
     "output_type": "execute_result"
    }
   ],
   "source": [
    "1/l1$coefficients[\"x1\"] *11\n",
    "1/l11$coefficients[\"x11\"]"
   ]
  },
  {
   "cell_type": "code",
   "execution_count": 193,
   "metadata": {
    "collapsed": false
   },
   "outputs": [
    {
     "data": {
      "text/html": [
       "<ol class=list-inline>\n",
       "\t<li>1.73007229899448</li>\n",
       "\t<li>1.84304100347638</li>\n",
       "</ol>\n"
      ],
      "text/latex": [
       "\\begin{enumerate*}\n",
       "\\item 1.73007229899448\n",
       "\\item 1.84304100347638\n",
       "\\end{enumerate*}\n"
      ],
      "text/markdown": [
       "1. 1.73007229899448\n",
       "2. 1.84304100347638\n",
       "\n",
       "\n"
      ],
      "text/plain": [
       "[1] 1.730072 1.843041"
      ]
     },
     "execution_count": 193,
     "metadata": {},
     "output_type": "execute_result"
    },
    {
     "data": {
      "text/html": [
       "<ol class=list-inline>\n",
       "\t<li>13.1615785234199</li>\n",
       "\t<li>13.4871750652981</li>\n",
       "</ol>\n"
      ],
      "text/latex": [
       "\\begin{enumerate*}\n",
       "\\item 13.1615785234199\n",
       "\\item 13.4871750652981\n",
       "\\end{enumerate*}\n"
      ],
      "text/markdown": [
       "1. 13.1615785234199\n",
       "2. 13.4871750652981\n",
       "\n",
       "\n"
      ],
      "text/plain": [
       "[1] 13.16158 13.48718"
      ]
     },
     "execution_count": 193,
     "metadata": {},
     "output_type": "execute_result"
    },
    {
     "data": {
      "text/html": [
       "<ol class=list-inline>\n",
       "\t<li>12.4017027288635</li>\n",
       "\t<li>12.7320994852274</li>\n",
       "</ol>\n"
      ],
      "text/latex": [
       "\\begin{enumerate*}\n",
       "\\item 12.4017027288635\n",
       "\\item 12.7320994852274\n",
       "\\end{enumerate*}\n"
      ],
      "text/markdown": [
       "1. 12.4017027288635\n",
       "2. 12.7320994852274\n",
       "\n",
       "\n"
      ],
      "text/plain": [
       "[1] 12.4017 12.7321"
      ]
     },
     "execution_count": 193,
     "metadata": {},
     "output_type": "execute_result"
    }
   ],
   "source": [
    "predict = function(x,m){\n",
    "    cn = confint(m)\n",
    "    c(cn[1,1] + cn[2,1]*x,cn[1,2] + cn[2,2]*x)\n",
    "}\n",
    "predict(40,l1)\n",
    "predict(40,l11) *11\n",
    "predict(40,l54) *54"
   ]
  },
  {
   "cell_type": "code",
   "execution_count": 194,
   "metadata": {
    "collapsed": false
   },
   "outputs": [
    {
     "data": {
      "text/html": [
       "<ol class=list-inline>\n",
       "\t<li>6.91647034100212</li>\n",
       "\t<li>7.10933261097923</li>\n",
       "</ol>\n"
      ],
      "text/latex": [
       "\\begin{enumerate*}\n",
       "\\item 6.91647034100212\n",
       "\\item 7.10933261097923\n",
       "\\end{enumerate*}\n"
      ],
      "text/markdown": [
       "1. 6.91647034100212\n",
       "2. 7.10933261097923\n",
       "\n",
       "\n"
      ],
      "text/plain": [
       "[1] 6.916470 7.109333"
      ]
     },
     "execution_count": 194,
     "metadata": {},
     "output_type": "execute_result"
    },
    {
     "data": {
      "text/html": [
       "<ol class=list-inline>\n",
       "\t<li>18.9512264124851</li>\n",
       "\t<li>19.5070908746944</li>\n",
       "</ol>\n"
      ],
      "text/latex": [
       "\\begin{enumerate*}\n",
       "\\item 18.9512264124851\n",
       "\\item 19.5070908746944\n",
       "\\end{enumerate*}\n"
      ],
      "text/markdown": [
       "1. 18.9512264124851\n",
       "2. 19.5070908746944\n",
       "\n",
       "\n"
      ],
      "text/plain": [
       "[1] 18.95123 19.50709"
      ]
     },
     "execution_count": 194,
     "metadata": {},
     "output_type": "execute_result"
    },
    {
     "data": {
      "text/html": [
       "<ol class=list-inline>\n",
       "\t<li>18.3555080271524</li>\n",
       "\t<li>18.9195675046658</li>\n",
       "</ol>\n"
      ],
      "text/latex": [
       "\\begin{enumerate*}\n",
       "\\item 18.3555080271524\n",
       "\\item 18.9195675046658\n",
       "\\end{enumerate*}\n"
      ],
      "text/markdown": [
       "1. 18.3555080271524\n",
       "2. 18.9195675046658\n",
       "\n",
       "\n"
      ],
      "text/plain": [
       "[1] 18.35551 18.91957"
      ]
     },
     "execution_count": 194,
     "metadata": {},
     "output_type": "execute_result"
    },
    {
     "data": {
      "text/html": [
       "<ol class=list-inline>\n",
       "\t<li>12.3950598219961</li>\n",
       "\t<li>12.6723167034118</li>\n",
       "</ol>\n"
      ],
      "text/latex": [
       "\\begin{enumerate*}\n",
       "\\item 12.3950598219961\n",
       "\\item 12.6723167034118\n",
       "\\end{enumerate*}\n"
      ],
      "text/markdown": [
       "1. 12.3950598219961\n",
       "2. 12.6723167034118\n",
       "\n",
       "\n"
      ],
      "text/plain": [
       "[1] 12.39506 12.67232"
      ]
     },
     "execution_count": 194,
     "metadata": {},
     "output_type": "execute_result"
    },
    {
     "data": {
      "text/html": [
       "<ol class=list-inline>\n",
       "\t<li>25.0670516474131</li>\n",
       "\t<li>25.8661568705357</li>\n",
       "</ol>\n"
      ],
      "text/latex": [
       "\\begin{enumerate*}\n",
       "\\item 25.0670516474131\n",
       "\\item 25.8661568705357\n",
       "\\end{enumerate*}\n"
      ],
      "text/markdown": [
       "1. 25.0670516474131\n",
       "2. 25.8661568705357\n",
       "\n",
       "\n"
      ],
      "text/plain": [
       "[1] 25.06705 25.86616"
      ]
     },
     "execution_count": 194,
     "metadata": {},
     "output_type": "execute_result"
    },
    {
     "data": {
      "text/html": [
       "<ol class=list-inline>\n",
       "\t<li>24.6447389760491</li>\n",
       "\t<li>25.4556252716781</li>\n",
       "</ol>\n"
      ],
      "text/latex": [
       "\\begin{enumerate*}\n",
       "\\item 24.6447389760491\n",
       "\\item 25.4556252716781\n",
       "\\end{enumerate*}\n"
      ],
      "text/markdown": [
       "1. 24.6447389760491\n",
       "2. 25.4556252716781\n",
       "\n",
       "\n"
      ],
      "text/plain": [
       "[1] 24.64474 25.45563"
      ]
     },
     "execution_count": 194,
     "metadata": {},
     "output_type": "execute_result"
    }
   ],
   "source": [
    "predict(750,l1)\n",
    "predict(750,l11) *11\n",
    "predict(750,l54) *54\n",
    "predict(1500,l1)\n",
    "predict(1500,l11) *11\n",
    "predict(1500,l54) *54"
   ]
  },
  {
   "cell_type": "code",
   "execution_count": 197,
   "metadata": {
    "collapsed": false
   },
   "outputs": [
    {
     "data": {
      "text/html": [
       "<ol class=list-inline>\n",
       "\t<li>64.0126750627958</li>\n",
       "\t<li>68.1925171286262</li>\n",
       "</ol>\n"
      ],
      "text/latex": [
       "\\begin{enumerate*}\n",
       "\\item 64.0126750627958\n",
       "\\item 68.1925171286262\n",
       "\\end{enumerate*}\n"
      ],
      "text/markdown": [
       "1. 64.0126750627958\n",
       "2. 68.1925171286262\n",
       "\n",
       "\n"
      ],
      "text/plain": [
       "[1] 64.01268 68.19252"
      ]
     },
     "execution_count": 197,
     "metadata": {},
     "output_type": "execute_result"
    },
    {
     "data": {
      "text/html": [
       "<ol class=list-inline>\n",
       "\t<li>12.3950598219961</li>\n",
       "\t<li>12.6723167034118</li>\n",
       "</ol>\n"
      ],
      "text/latex": [
       "\\begin{enumerate*}\n",
       "\\item 12.3950598219961\n",
       "\\item 12.6723167034118\n",
       "\\end{enumerate*}\n"
      ],
      "text/markdown": [
       "1. 12.3950598219961\n",
       "2. 12.6723167034118\n",
       "\n",
       "\n"
      ],
      "text/plain": [
       "[1] 12.39506 12.67232"
      ]
     },
     "execution_count": 197,
     "metadata": {},
     "output_type": "execute_result"
    }
   ],
   "source": [
    "predict(40,l1) *37\n",
    "predict(1500,l1)"
   ]
  },
  {
   "cell_type": "markdown",
   "metadata": {},
   "source": [
    "The 11Mb/s protocal is not 11 times faster than the 1Mb/s protocal. The slopes are nearly in this range, but the intercept dominates, preventing the speedy transfer."
   ]
  }
 ],
 "metadata": {
  "kernelspec": {
   "display_name": "R",
   "language": "R",
   "name": "ir"
  },
  "language_info": {
   "codemirror_mode": "r",
   "file_extension": ".r",
   "mimetype": "text/x-r-source",
   "name": "R",
   "pygments_lexer": "r",
   "version": "3.2.2"
  }
 },
 "nbformat": 4,
 "nbformat_minor": 0
}
